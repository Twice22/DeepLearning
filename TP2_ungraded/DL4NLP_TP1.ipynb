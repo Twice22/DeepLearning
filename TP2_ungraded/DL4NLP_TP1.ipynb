{
 "cells": [
  {
   "cell_type": "markdown",
   "metadata": {
    "deletable": true,
    "editable": true
   },
   "source": [
    "# MVA2018 - TP1 - Word Embeddings and BoW Classification"
   ]
  },
  {
   "cell_type": "markdown",
   "metadata": {
    "deletable": true,
    "editable": true
   },
   "source": [
    "Welcome to an \"ipython notebook\", a simple python environment where you can code and prototype easily.\n",
    "\n",
    "In this lab, we will talk about:\n",
    "* word2vec: word embeddings and their properties\n",
    "* average of word embeddings for sentences (sentence similarity)\n",
    "* Document classification with bag-of-words: classifying IMDB movie reviews\n",
    "\n",
    "Start by downloading all the text data we will need:\n",
    "\n",
    "https://s3.amazonaws.com/senteval/imdb/data.zip (tar -xvf data.zip to extract it)\n",
    "\n",
    "\n",
    "You will also need to have the following packages:\n",
    "\n",
    "* gensim\n",
    "* nltk\n",
    "* sklearn"
   ]
  },
  {
   "cell_type": "code",
   "execution_count": 1,
   "metadata": {
    "collapsed": false,
    "deletable": true,
    "editable": true
   },
   "outputs": [
    {
     "name": "stderr",
     "output_type": "stream",
     "text": [
      "C:\\Anaconda3\\envs\\py27\\lib\\site-packages\\gensim\\utils.py:1167: UserWarning: detected Windows; aliasing chunkize to chunkize_serial\n",
      "  warnings.warn(\"detected Windows; aliasing chunkize to chunkize_serial\")\n",
      "02:13:52 INFO:'pattern' package not found; tag filters are not available for English\n"
     ]
    }
   ],
   "source": [
    "# In python you have \"packages\" that you import (numpy, scikit-learn, keras, torch .)\n",
    "import os\n",
    "import logging\n",
    "reload(logging)\n",
    "logging.basicConfig(format='%(asctime)s %(levelname)s:%(message)s', level=logging.INFO, datefmt='%I:%M:%S')\n",
    "import random\n",
    "import numpy as np\n",
    "import matplotlib.pyplot as plt\n",
    "%matplotlib inline\n",
    "\n",
    "# load scikit-learn\n",
    "import sklearn\n",
    "\n",
    "# load gensim package\n",
    "import gensim"
   ]
  },
  {
   "cell_type": "markdown",
   "metadata": {
    "collapsed": true,
    "deletable": true,
    "editable": true
   },
   "source": [
    "## I - POS tagging and parsing visualization\n",
    "\n",
    "You can visualize the POS tagging and the Parsing outputs of the Stanford tool here:\n",
    "http://nlp.stanford.edu:8080/parser/index.jsp"
   ]
  },
  {
   "cell_type": "markdown",
   "metadata": {
    "collapsed": true,
    "deletable": true,
    "editable": true
   },
   "source": [
    "## II - Word2vec: word embeddings"
   ]
  },
  {
   "cell_type": "markdown",
   "metadata": {
    "deletable": true,
    "editable": true
   },
   "source": [
    "In this part, we are going to play with word2vec embeddings.\n",
    "For simplicity, we will use the **gensim** python package which provides an implementation of the word2vec algorithm and some nice functionalities."
   ]
  },
  {
   "cell_type": "markdown",
   "metadata": {
    "deletable": true,
    "editable": true
   },
   "source": [
    "We are going to use the **\"data/text8\"** corpus to train word2vec."
   ]
  },
  {
   "cell_type": "code",
   "execution_count": 2,
   "metadata": {
    "collapsed": false,
    "deletable": true,
    "editable": true
   },
   "outputs": [
    {
     "name": "stdout",
     "output_type": "stream",
     "text": [
      "0 anarchism originated as a term of abuse first used against early working class radicals including the diggers of the english revolution and the sans culottes of the french revolution whilst the term is still used in a pejorative way to describe any act that used violent means to destroy the organization of society it has also been taken up as a positive label by self defined anarchists the word anarchism is derived from the greek without archons ruler chief king anarchism as a political philosophy is the belief that rulers are unnecessary and should be abolished although there are differing interpretations of what this means anarchism also refers to related social movements that advocate the elimination of authoritarian institutions particularly the state the word anarchy as most anarchists use it does not imply chaos nihilism or anomie but rather a harmonious anti authoritarian society in place of what are regarded as authoritarian political structures and coercive economic institutions anarchists advocate social relations based upon voluntary association of autonomous individuals mutual aid and self governance while anarchism is most easily defined by what it is against anarchists also offer positive visions of what they believe to be a truly free society\n",
      "1 reciprocity qualitative impairments in communication as manifested by at least one of the following delay in or total lack of the development of spoken language not accompanied by an attempt to compensate through alternative modes of communication such as gesture or mime in individuals with adequate speech marked impairment in the ability to initiate or sustain a conversation with others stereotyped and repetitive use of language or idiosyncratic language lack of varied spontaneous make believe play or social imitative play appropriate to developmental level restricted repetitive and stereotyped patterns of behavior interests and activities as manifested by at least one of the following encompassing preoccupation with one or more stereotyped and restricted patterns of interest that is abnormal either in intensity or focus apparently inflexible adherence to specific nonfunctional routines or rituals stereotyped and repetitive motor mannerisms e g hand or finger flapping or twisting or complex whole body movements persistent preoccupation with parts of objects delays or abnormal functioning in at least one of the following areas with onset prior to age three years one social interaction two language as used in social communication or three symbolic or imaginative play the disturbance is not better accounted for by rett\n"
     ]
    }
   ],
   "source": [
    "# Load the \"text8\" text corpus\n",
    "fname = 'data/text8'\n",
    "assert os.path.isfile(fname), 'there is no file %s' % (fname)\n",
    "text8 = gensim.models.word2vec.Text8Corpus('data/text8')\n",
    "\n",
    "# let's visualize some of the text in the text8 corpus\n",
    "for i, doc in enumerate(text8):\n",
    "    \n",
    "    print i, ' '.join(doc[0:200])\n",
    "    if i > 0:\n",
    "        break"
   ]
  },
  {
   "cell_type": "markdown",
   "metadata": {
    "deletable": true,
    "editable": true
   },
   "source": [
    "**REMINDER**\n",
    "\n",
    "* Word2vec is a tool. \"SkipGram\" is one of the two methods of Word2vec (along with \"CBOW\").\n",
    "\n",
    "* Skipgram consists of an **input lookup table**, and a **classifier** (which itself consists of a projection W and a softmax function).\n",
    "\n",
    "* The algorithm will iterate over the text8 corpus, \"encode\" a word using the lookup table, and predict their surrounding words using the classifier.\n",
    "\n",
    "* The parameters of the lookup table and the classifier will be jointly trained to solve this task (using SGD and backpropagation).\n",
    "\n",
    "* At the very end, the word embeddings are contained in the lookup table (a matrix of size V*dim)."
   ]
  },
  {
   "cell_type": "code",
   "execution_count": 3,
   "metadata": {
    "collapsed": false,
    "deletable": true,
    "editable": true
   },
   "outputs": [
    {
     "name": "stderr",
     "output_type": "stream",
     "text": [
      "02:15:25 INFO:collecting all words and their counts\n",
      "02:15:25 INFO:PROGRESS: at sentence #0, processed 0 words, keeping 0 word types\n",
      "02:15:31 INFO:collected 253854 word types from a corpus of 17005207 raw words and 1701 sentences\n",
      "02:15:31 INFO:Loading a fresh vocabulary\n",
      "02:15:32 INFO:min_count=5 retains 71290 unique words (28% of original 253854, drops 182564)\n",
      "02:15:32 INFO:min_count=5 leaves 16718844 word corpus (98% of original 17005207, drops 286363)\n",
      "02:15:32 INFO:deleting the raw counts dictionary of 253854 items\n",
      "02:15:32 INFO:sample=0.001 downsamples 38 most-common words\n",
      "02:15:32 INFO:downsampling leaves estimated 12506280 word corpus (74.8% of prior 16718844)\n",
      "02:15:32 INFO:estimated required memory for 71290 words and 100 dimensions: 92677000 bytes\n",
      "02:15:32 INFO:resetting layer weights\n",
      "02:15:33 INFO:training model with 3 workers on 71290 vocabulary and 100 features, using sg=0 hs=0 sample=0.001 negative=5 window=5\n",
      "02:15:34 INFO:EPOCH 1 - PROGRESS: at 7.11% examples, 881512 words/s, in_qsize 6, out_qsize 0\n",
      "02:15:35 INFO:EPOCH 1 - PROGRESS: at 14.70% examples, 912700 words/s, in_qsize 6, out_qsize 0\n",
      "02:15:36 INFO:EPOCH 1 - PROGRESS: at 22.28% examples, 924248 words/s, in_qsize 5, out_qsize 0\n",
      "02:15:37 INFO:EPOCH 1 - PROGRESS: at 29.75% examples, 929537 words/s, in_qsize 5, out_qsize 0\n",
      "02:15:38 INFO:EPOCH 1 - PROGRESS: at 36.98% examples, 926175 words/s, in_qsize 6, out_qsize 0\n",
      "02:15:39 INFO:EPOCH 1 - PROGRESS: at 44.39% examples, 924978 words/s, in_qsize 5, out_qsize 0\n",
      "02:15:40 INFO:EPOCH 1 - PROGRESS: at 51.56% examples, 919626 words/s, in_qsize 6, out_qsize 1\n",
      "02:15:41 INFO:EPOCH 1 - PROGRESS: at 59.02% examples, 921976 words/s, in_qsize 5, out_qsize 0\n",
      "02:15:42 INFO:EPOCH 1 - PROGRESS: at 66.84% examples, 927445 words/s, in_qsize 6, out_qsize 0\n",
      "02:15:43 INFO:EPOCH 1 - PROGRESS: at 74.72% examples, 933507 words/s, in_qsize 5, out_qsize 0\n",
      "02:15:44 INFO:EPOCH 1 - PROGRESS: at 82.25% examples, 932370 words/s, in_qsize 5, out_qsize 0\n",
      "02:15:45 INFO:EPOCH 1 - PROGRESS: at 89.95% examples, 934904 words/s, in_qsize 6, out_qsize 1\n",
      "02:15:46 INFO:EPOCH 1 - PROGRESS: at 97.77% examples, 937080 words/s, in_qsize 6, out_qsize 1\n",
      "02:15:46 INFO:worker thread finished; awaiting finish of 2 more threads\n",
      "02:15:46 INFO:worker thread finished; awaiting finish of 1 more threads\n",
      "02:15:46 INFO:worker thread finished; awaiting finish of 0 more threads\n",
      "02:15:46 INFO:EPOCH - 1 : training on 17005207 raw words (12507525 effective words) took 13.3s, 938332 effective words/s\n",
      "02:15:47 INFO:EPOCH 2 - PROGRESS: at 7.58% examples, 933137 words/s, in_qsize 6, out_qsize 0\n",
      "02:15:48 INFO:EPOCH 2 - PROGRESS: at 15.05% examples, 927570 words/s, in_qsize 6, out_qsize 1\n",
      "02:15:49 INFO:EPOCH 2 - PROGRESS: at 22.93% examples, 945808 words/s, in_qsize 5, out_qsize 0\n",
      "02:15:50 INFO:EPOCH 2 - PROGRESS: at 30.45% examples, 945728 words/s, in_qsize 5, out_qsize 1\n",
      "02:15:51 INFO:EPOCH 2 - PROGRESS: at 38.33% examples, 952988 words/s, in_qsize 5, out_qsize 0\n",
      "02:15:52 INFO:EPOCH 2 - PROGRESS: at 44.97% examples, 931921 words/s, in_qsize 5, out_qsize 0\n",
      "02:15:53 INFO:EPOCH 2 - PROGRESS: at 52.62% examples, 933496 words/s, in_qsize 6, out_qsize 1\n",
      "02:15:54 INFO:EPOCH 2 - PROGRESS: at 60.38% examples, 937577 words/s, in_qsize 6, out_qsize 0\n",
      "02:15:55 INFO:EPOCH 2 - PROGRESS: at 67.61% examples, 933744 words/s, in_qsize 6, out_qsize 1\n",
      "02:15:56 INFO:EPOCH 2 - PROGRESS: at 75.60% examples, 939555 words/s, in_qsize 5, out_qsize 0\n",
      "02:15:57 INFO:EPOCH 2 - PROGRESS: at 82.66% examples, 932954 words/s, in_qsize 5, out_qsize 0\n",
      "02:15:58 INFO:EPOCH 2 - PROGRESS: at 89.89% examples, 930541 words/s, in_qsize 5, out_qsize 0\n",
      "02:15:59 INFO:EPOCH 2 - PROGRESS: at 97.18% examples, 928179 words/s, in_qsize 5, out_qsize 0\n",
      "02:16:00 INFO:worker thread finished; awaiting finish of 2 more threads\n",
      "02:16:00 INFO:worker thread finished; awaiting finish of 1 more threads\n",
      "02:16:00 INFO:worker thread finished; awaiting finish of 0 more threads\n",
      "02:16:00 INFO:EPOCH - 2 : training on 17005207 raw words (12506278 effective words) took 13.5s, 926247 effective words/s\n",
      "02:16:01 INFO:EPOCH 3 - PROGRESS: at 6.47% examples, 794529 words/s, in_qsize 6, out_qsize 0\n",
      "02:16:02 INFO:EPOCH 3 - PROGRESS: at 13.93% examples, 858968 words/s, in_qsize 6, out_qsize 0\n",
      "02:16:03 INFO:EPOCH 3 - PROGRESS: at 21.58% examples, 890264 words/s, in_qsize 6, out_qsize 0\n",
      "02:16:04 INFO:EPOCH 3 - PROGRESS: at 28.57% examples, 886829 words/s, in_qsize 5, out_qsize 0\n",
      "02:16:05 INFO:EPOCH 3 - PROGRESS: at 35.92% examples, 895442 words/s, in_qsize 5, out_qsize 0\n",
      "02:16:06 INFO:EPOCH 3 - PROGRESS: at 43.50% examples, 904128 words/s, in_qsize 5, out_qsize 0\n",
      "02:16:07 INFO:EPOCH 3 - PROGRESS: at 50.09% examples, 893297 words/s, in_qsize 5, out_qsize 0\n",
      "02:16:08 INFO:EPOCH 3 - PROGRESS: at 57.08% examples, 890488 words/s, in_qsize 6, out_qsize 0\n",
      "02:16:09 INFO:EPOCH 3 - PROGRESS: at 64.43% examples, 893321 words/s, in_qsize 6, out_qsize 0\n",
      "02:16:10 INFO:EPOCH 3 - PROGRESS: at 72.13% examples, 899529 words/s, in_qsize 6, out_qsize 1\n",
      "02:16:11 INFO:EPOCH 3 - PROGRESS: at 79.37% examples, 897845 words/s, in_qsize 6, out_qsize 0\n",
      "02:16:12 INFO:EPOCH 3 - PROGRESS: at 86.83% examples, 900430 words/s, in_qsize 5, out_qsize 0\n",
      "02:16:13 INFO:EPOCH 3 - PROGRESS: at 94.47% examples, 904347 words/s, in_qsize 5, out_qsize 0\n",
      "02:16:14 INFO:worker thread finished; awaiting finish of 2 more threads\n",
      "02:16:14 INFO:worker thread finished; awaiting finish of 1 more threads\n",
      "02:16:14 INFO:worker thread finished; awaiting finish of 0 more threads\n",
      "02:16:14 INFO:EPOCH - 3 : training on 17005207 raw words (12504765 effective words) took 13.8s, 903846 effective words/s\n",
      "02:16:15 INFO:EPOCH 4 - PROGRESS: at 7.94% examples, 975487 words/s, in_qsize 6, out_qsize 0\n",
      "02:16:16 INFO:EPOCH 4 - PROGRESS: at 15.93% examples, 982108 words/s, in_qsize 6, out_qsize 0\n",
      "02:16:17 INFO:EPOCH 4 - PROGRESS: at 23.16% examples, 956584 words/s, in_qsize 5, out_qsize 0\n",
      "02:16:18 INFO:EPOCH 4 - PROGRESS: at 30.51% examples, 947607 words/s, in_qsize 6, out_qsize 0\n",
      "02:16:19 INFO:EPOCH 4 - PROGRESS: at 37.62% examples, 937890 words/s, in_qsize 5, out_qsize 0\n",
      "02:16:20 INFO:EPOCH 4 - PROGRESS: at 44.56% examples, 925250 words/s, in_qsize 5, out_qsize 0\n",
      "02:16:21 INFO:EPOCH 4 - PROGRESS: at 51.50% examples, 917349 words/s, in_qsize 6, out_qsize 0\n",
      "02:16:22 INFO:EPOCH 4 - PROGRESS: at 59.08% examples, 921539 words/s, in_qsize 6, out_qsize 1\n",
      "02:16:23 INFO:EPOCH 4 - PROGRESS: at 66.55% examples, 922231 words/s, in_qsize 5, out_qsize 0\n",
      "02:16:24 INFO:EPOCH 4 - PROGRESS: at 74.19% examples, 925762 words/s, in_qsize 5, out_qsize 0\n",
      "02:16:25 INFO:EPOCH 4 - PROGRESS: at 82.01% examples, 928416 words/s, in_qsize 6, out_qsize 0\n",
      "02:16:26 INFO:EPOCH 4 - PROGRESS: at 89.77% examples, 931888 words/s, in_qsize 6, out_qsize 0\n",
      "02:16:27 INFO:EPOCH 4 - PROGRESS: at 97.65% examples, 935256 words/s, in_qsize 5, out_qsize 0\n",
      "02:16:27 INFO:worker thread finished; awaiting finish of 2 more threads\n",
      "02:16:27 INFO:worker thread finished; awaiting finish of 1 more threads\n",
      "02:16:27 INFO:worker thread finished; awaiting finish of 0 more threads\n",
      "02:16:27 INFO:EPOCH - 4 : training on 17005207 raw words (12506067 effective words) took 13.4s, 935411 effective words/s\n",
      "02:16:28 INFO:EPOCH 5 - PROGRESS: at 7.76% examples, 952256 words/s, in_qsize 6, out_qsize 0\n",
      "02:16:29 INFO:EPOCH 5 - PROGRESS: at 15.52% examples, 957296 words/s, in_qsize 6, out_qsize 0\n",
      "02:16:30 INFO:EPOCH 5 - PROGRESS: at 23.57% examples, 975086 words/s, in_qsize 6, out_qsize 0\n",
      "02:16:31 INFO:EPOCH 5 - PROGRESS: at 30.86% examples, 960489 words/s, in_qsize 5, out_qsize 0\n",
      "02:16:32 INFO:EPOCH 5 - PROGRESS: at 38.80% examples, 967819 words/s, in_qsize 5, out_qsize 0\n",
      "02:16:33 INFO:EPOCH 5 - PROGRESS: at 46.80% examples, 972948 words/s, in_qsize 5, out_qsize 0\n",
      "02:16:34 INFO:EPOCH 5 - PROGRESS: at 54.44% examples, 971110 words/s, in_qsize 5, out_qsize 0\n",
      "02:16:35 INFO:EPOCH 5 - PROGRESS: at 61.79% examples, 964553 words/s, in_qsize 5, out_qsize 0\n",
      "02:16:36 INFO:EPOCH 5 - PROGRESS: at 69.37% examples, 962517 words/s, in_qsize 6, out_qsize 0\n",
      "02:16:37 INFO:EPOCH 5 - PROGRESS: at 76.60% examples, 955300 words/s, in_qsize 6, out_qsize 0\n",
      "02:16:38 INFO:EPOCH 5 - PROGRESS: at 84.01% examples, 952031 words/s, in_qsize 5, out_qsize 0\n",
      "02:16:39 INFO:EPOCH 5 - PROGRESS: at 91.95% examples, 954650 words/s, in_qsize 6, out_qsize 0\n",
      "02:16:40 INFO:EPOCH 5 - PROGRESS: at 99.24% examples, 950850 words/s, in_qsize 6, out_qsize 0\n",
      "02:16:40 INFO:worker thread finished; awaiting finish of 2 more threads\n",
      "02:16:40 INFO:worker thread finished; awaiting finish of 1 more threads\n",
      "02:16:40 INFO:worker thread finished; awaiting finish of 0 more threads\n",
      "02:16:40 INFO:EPOCH - 5 : training on 17005207 raw words (12505785 effective words) took 13.2s, 950677 effective words/s\n",
      "02:16:40 INFO:training on a 85026035 raw words (62530420 effective words) took 67.2s, 930391 effective words/s\n"
     ]
    }
   ],
   "source": [
    "# Learn a word2vec model on text8 using the gensim package\n",
    "w2v_model = gensim.models.word2vec.Word2Vec(text8, size=100)"
   ]
  },
  {
   "cell_type": "markdown",
   "metadata": {
    "deletable": true,
    "editable": true
   },
   "source": [
    "** REMINDER **\n",
    "\n",
    "* **\"Words that appear in similar contexts will have similar meaning\"**\n",
    "* **\"You shall know a word by the company it keeps\"**\n",
    "\n",
    "are the intuitions behind word2vec and the resulting word similarities that we will see right now."
   ]
  },
  {
   "cell_type": "code",
   "execution_count": 4,
   "metadata": {
    "collapsed": false,
    "deletable": true,
    "editable": true
   },
   "outputs": [
    {
     "name": "stdout",
     "output_type": "stream",
     "text": [
      "Printing word similarity between \"woman\" and \"man\" : 0.741788853981\n"
     ]
    }
   ],
   "source": [
    "# Words that are similar are close in the sense of the cosine similarity.\n",
    "sim = w2v_model.wv.similarity('woman', 'man')\n",
    "print 'Printing word similarity between \"woman\" and \"man\" : {0}'.format(sim)"
   ]
  },
  {
   "cell_type": "code",
   "execution_count": 5,
   "metadata": {
    "collapsed": false,
    "deletable": true,
    "editable": true
   },
   "outputs": [
    {
     "name": "stderr",
     "output_type": "stream",
     "text": [
      "02:17:08 INFO:precomputing L2-norms of word weight vectors\n"
     ]
    },
    {
     "data": {
      "text/plain": [
       "[(u'woman', 0.7417888641357422),\n",
       " (u'girl', 0.6623306274414062),\n",
       " (u'creature', 0.6308012008666992),\n",
       " (u'gentleman', 0.5680364966392517),\n",
       " (u'person', 0.5646349787712097),\n",
       " (u'mortal', 0.5627669095993042),\n",
       " (u'demon', 0.559777021408081),\n",
       " (u'stranger', 0.5596663951873779),\n",
       " (u'god', 0.556771993637085),\n",
       " (u'boy', 0.5541359186172485)]"
      ]
     },
     "execution_count": 5,
     "metadata": {},
     "output_type": "execute_result"
    }
   ],
   "source": [
    "# And words that appear in the same context have similar word embeddings.\n",
    "w2v_model.wv.most_similar(['man'])"
   ]
  },
  {
   "cell_type": "code",
   "execution_count": 6,
   "metadata": {
    "collapsed": false,
    "deletable": true,
    "editable": true
   },
   "outputs": [
    {
     "data": {
      "text/plain": [
       "[(u'queen', 0.662168025970459),\n",
       " (u'prince', 0.6023272275924683),\n",
       " (u'princess', 0.5994733572006226),\n",
       " (u'elizabeth', 0.5850202441215515),\n",
       " (u'throne', 0.5816978216171265),\n",
       " (u'son', 0.5786405801773071),\n",
       " (u'mary', 0.5732231140136719),\n",
       " (u'daughter', 0.5693716406822205),\n",
       " (u'empress', 0.5647904872894287),\n",
       " (u'wife', 0.5614184141159058)]"
      ]
     },
     "execution_count": 6,
     "metadata": {},
     "output_type": "execute_result"
    }
   ],
   "source": [
    "# Compositionality and structure in word2vec space\n",
    "w2v_model.wv.most_similar(positive=['woman', 'king'], negative=['man'])"
   ]
  },
  {
   "cell_type": "markdown",
   "metadata": {
    "deletable": true,
    "editable": true
   },
   "source": [
    "## Visualization with PCA"
   ]
  },
  {
   "cell_type": "markdown",
   "metadata": {
    "deletable": true,
    "editable": true
   },
   "source": [
    "In what follows, we visualize the word embedding space using a **Principal Component Analysis (PCA) with 2 principal components**. After projecting the word vectors from 100D space to a 2D space, we can plot them, and **visualize the nearest neighbors of any word in the vocabulary**."
   ]
  },
  {
   "cell_type": "code",
   "execution_count": 9,
   "metadata": {
    "collapsed": false,
    "deletable": true,
    "editable": true
   },
   "outputs": [
    {
     "name": "stderr",
     "output_type": "stream",
     "text": [
      "C:\\Anaconda3\\envs\\py27\\lib\\site-packages\\ipykernel\\__main__.py:2: DeprecationWarning: Call to deprecated `syn1neg` (Attribute will be removed in 4.0.0, use self.trainables.syn1neg instead).\n",
      "  from ipykernel import kernelapp as app\n"
     ]
    },
    {
     "name": "stdout",
     "output_type": "stream",
     "text": [
      "(71290L, 100L)\n"
     ]
    },
    {
     "name": "stderr",
     "output_type": "stream",
     "text": [
      "C:\\Anaconda3\\envs\\py27\\lib\\site-packages\\ipykernel\\__main__.py:7: DeprecationWarning: Call to deprecated `syn1neg` (Attribute will be removed in 4.0.0, use self.trainables.syn1neg instead).\n"
     ]
    },
    {
     "data": {
      "text/plain": [
       "PCA(copy=True, iterated_power='auto', n_components=2, random_state=None,\n",
       "  svd_solver='auto', tol=0.0, whiten=False)"
      ]
     },
     "execution_count": 9,
     "metadata": {},
     "output_type": "execute_result"
    }
   ],
   "source": [
    "# this contains the matrix of embeddings (V, dim)\n",
    "print(w2v_model.syn1neg.shape)\n",
    "\n",
    "# Fit the PCA-2 with sklearn !!\n",
    "from sklearn.decomposition import PCA\n",
    "pca = PCA(n_components=2)\n",
    "pca.fit(w2v_model.syn1neg)"
   ]
  },
  {
   "cell_type": "code",
   "execution_count": 10,
   "metadata": {
    "collapsed": true,
    "deletable": true,
    "editable": true
   },
   "outputs": [],
   "source": [
    "\"\"\"\n",
    "This function takes a model, a pca object and a word as input.\n",
    "It computes the nearest neighbors of the word using the \"model\".\n",
    "Then it projects all their word vectors into the 2D space using the object \"pca\".\n",
    "Finally, it plots the input query and its nearest neighbors.\n",
    "\"\"\"\n",
    "\n",
    "def plot_similar_word(model, pca, word):\n",
    "    \n",
    "    arr = np.empty((0,model.vector_size), dtype='f')\n",
    "    word_labels = [word]\n",
    "\n",
    "    # get close words\n",
    "    close_words = model.wv.similar_by_word(word)\n",
    "    \n",
    "    # add the vector for each of the closest words to the array\n",
    "    arr = np.append(arr, np.array([model.wv[word]]), axis=0)\n",
    "    for wrd_score in close_words:\n",
    "        wrd_vector = model.wv[wrd_score[0]]\n",
    "        word_labels.append(wrd_score[0])\n",
    "        arr = np.append(arr, np.array([wrd_vector]), axis=0)\n",
    "        \n",
    "    # find tsne coords for 2 dimensions\n",
    "    np.set_printoptions(suppress=True)\n",
    "    Y = pca.transform(arr)\n",
    "\n",
    "    x_coords = Y[:, 0]\n",
    "    y_coords = Y[:, 1]\n",
    "    # display scatter plot\n",
    "    plt.figure(figsize=(8, 6), dpi=80)\n",
    "    plt.scatter(x_coords, y_coords)\n",
    "\n",
    "    for label, x, y in zip(word_labels, x_coords, y_coords):\n",
    "        plt.annotate(label, xy=(x, y), xytext=(0, 0), textcoords='offset points', fontsize=18)\n",
    "    plt.xlim(x_coords.min()-0.2, x_coords.max()+0.2)\n",
    "    plt.ylim(y_coords.min()-0.2, y_coords.max()+0.2)\n",
    "    plt.title('Nearest neighbors visualization of the word \"%s\"' % word)\n",
    "\n",
    "    plt.show()"
   ]
  },
  {
   "cell_type": "code",
   "execution_count": 11,
   "metadata": {
    "collapsed": false,
    "deletable": true,
    "editable": true
   },
   "outputs": [
    {
     "data": {
      "image/png": "[encoded data removed]",
      "text/plain": [
       "<matplotlib.figure.Figure at 0x11769358>"
      ]
     },
     "metadata": {},
     "output_type": "display_data"
    }
   ],
   "source": [
    "plot_similar_word(w2v_model, pca, 'queen')\n",
    "# Note the vectors (prince - princess) and (king - queen) !"
   ]
  },
  {
   "cell_type": "markdown",
   "metadata": {
    "collapsed": true,
    "deletable": true,
    "editable": true
   },
   "source": [
    "## III - Average of word2vec"
   ]
  },
  {
   "cell_type": "markdown",
   "metadata": {
    "collapsed": true,
    "deletable": true,
    "editable": true
   },
   "source": [
    "In this part, we will create sentence embeddings using word embeddings.\n",
    "\n",
    "We are going to use a set of sentences from **\"data/sentences.txt\"**."
   ]
  },
  {
   "cell_type": "code",
   "execution_count": 12,
   "metadata": {
    "collapsed": false,
    "deletable": true,
    "editable": true
   },
   "outputs": [
    {
     "name": "stdout",
     "output_type": "stream",
     "text": [
      "Found 150736 sentences\n"
     ]
    }
   ],
   "source": [
    "# Load the sentences (= captions of images)\n",
    "sentences = []\n",
    "with open('data/sentences.txt') as f:\n",
    "    for i, line in enumerate(f):\n",
    "        sent = line.rstrip().split()\n",
    "        sentences.append(sent)\n",
    "print('Found %s sentences' % len(sentences))"
   ]
  },
  {
   "cell_type": "markdown",
   "metadata": {
    "deletable": true,
    "editable": true
   },
   "source": [
    "Now that we've loaded the sentences from the file, let's encode them using the **average of the word embeddings**."
   ]
  },
  {
   "cell_type": "code",
   "execution_count": 13,
   "metadata": {
    "collapsed": false,
    "deletable": true,
    "editable": true
   },
   "outputs": [
    {
     "name": "stdout",
     "output_type": "stream",
     "text": [
      "Encoded 150736 sentences (dim = 100)\n"
     ]
    }
   ],
   "source": [
    "# Encode the sentences\n",
    "sentemb = []\n",
    "for sent in sentences:\n",
    "    sentemb.append(np.mean([w2v_model.wv[w] for w in sent if w in w2v_model.wv], axis=0))\n",
    "sentemb = np.vstack(sentemb)\n",
    "print('Encoded %s sentences (dim = %s)' % (sentemb.shape[0], sentemb.shape[1]))"
   ]
  },
  {
   "cell_type": "markdown",
   "metadata": {
    "deletable": true,
    "editable": true
   },
   "source": [
    "Let's try and get the nearest neighbors for sentences"
   ]
  },
  {
   "cell_type": "code",
   "execution_count": 14,
   "metadata": {
    "collapsed": false,
    "deletable": true,
    "editable": true
   },
   "outputs": [],
   "source": [
    "# Get nearest neighbor of a sentence\n",
    "def get_nearest_sentences(sentences, sentemb, idx, K=5):\n",
    "    keys = sentemb.copy()\n",
    "    keys = keys / np.linalg.norm(keys, 2, 1)[:, None]  # normalize embeddings\n",
    "    scores = keys[idx].dot(keys.T)  # dot-product of normalized vector = cosine similarity\n",
    "    \n",
    "    idxs = scores.argsort()[::-1][1:K+1]\n",
    "    \n",
    "    print('Top-%s NNs of \\n\"%s\"\\n\\n' % (K, ' '.join(sentences[idx])))\n",
    "    for i, idx in enumerate(idxs):\n",
    "        print('%s) %s' % (i + 1, ' '.join(sentences[idx])))"
   ]
  },
  {
   "cell_type": "code",
   "execution_count": 15,
   "metadata": {
    "collapsed": false,
    "deletable": true,
    "editable": true
   },
   "outputs": [
    {
     "name": "stdout",
     "output_type": "stream",
     "text": [
      "Top-5 NNs of \n",
      "\"a child peeks his head out from some flowers .\"\n",
      "\n",
      "\n",
      "1) a dog sticking his head out from under some gray stairs .\n",
      "2) a baby peeking out from inside her cot\n",
      "3) a toddler child peaks his head up from behind a large brown package .\n",
      "4) watching a child from behind as their long hair flies out .\n",
      "5) a bearded man taking a stocking down from his mantle .\n"
     ]
    }
   ],
   "source": [
    "query_idx = random.randint(0, len(sentences))\n",
    "get_nearest_sentences(sentences, sentemb, query_idx, K=5)"
   ]
  },
  {
   "cell_type": "code",
   "execution_count": 16,
   "metadata": {
    "collapsed": true,
    "deletable": true,
    "editable": true
   },
   "outputs": [],
   "source": [
    "\"\"\"\n",
    "This function takes a model, a pca object and a sentence embedding.\n",
    "It computes the nearest neighbors of the word using the \"model\".\n",
    "Then it projects all their word vectors into the 2D space using the object \"pca\".\n",
    "Finally, it plots the input query and its nearest neighbors.\n",
    "\"\"\"\n",
    "\n",
    "def plot_similar_sent(model, pca, sent):\n",
    "    \n",
    "    query = np.mean([model.wv[w] for w in sent.split() if w in model.wv], axis=0)\n",
    "    \n",
    "    arr = np.empty((0,model.vector_size), dtype='f')\n",
    "    word_labels = [sent]\n",
    "\n",
    "    # get close words\n",
    "    close_words = model.wv.similar_by_vector(query, topn=20)\n",
    "    \n",
    "    # add the vector for each of the closest words to the array\n",
    "    arr = np.append(arr, np.array([query]), axis=0)\n",
    "    for wrd_score in close_words:\n",
    "        wrd_vector = model.wv[wrd_score[0]]\n",
    "        word_labels.append(wrd_score[0])\n",
    "        arr = np.append(arr, np.array([wrd_vector]), axis=0)\n",
    "        \n",
    "    # find tsne coords for 2 dimensions\n",
    "    np.set_printoptions(suppress=True)\n",
    "    Y = pca.transform(arr)\n",
    "\n",
    "    x_coords = Y[:, 0]\n",
    "    y_coords = Y[:, 1]\n",
    "    # display scatter plot\n",
    "    plt.figure(figsize=(10, 8), dpi=80)\n",
    "    plt.scatter(x_coords, y_coords)\n",
    "\n",
    "    for label, x, y in zip(word_labels, x_coords, y_coords):\n",
    "        if label == sent:\n",
    "            plt.annotate(label, xy=(x, y), xytext=(0, 0), textcoords='offset points', fontsize=24, weight=\"bold\")\n",
    "        else:\n",
    "            plt.annotate(label, xy=(x, y), xytext=(0, 0), textcoords='offset points', fontsize=14)\n",
    "    plt.xlim(x_coords.min()-0.2, x_coords.max()+0.2)\n",
    "    plt.ylim(y_coords.min()-0.2, y_coords.max()+0.2)\n",
    "    plt.title('Nearest neighbors visualization of the sentence \"%s\"' % sent)\n",
    "\n",
    "    plt.show()"
   ]
  },
  {
   "cell_type": "code",
   "execution_count": 17,
   "metadata": {
    "collapsed": false,
    "deletable": true,
    "editable": true
   },
   "outputs": [
    {
     "data": {
      "image/png": "[encoded data removed]",
      "text/plain": [
       "<matplotlib.figure.Figure at 0x11c25438>"
      ]
     },
     "metadata": {},
     "output_type": "display_data"
    }
   ],
   "source": [
    "plot_similar_sent(w2v_model, pca, 'black cat')"
   ]
  },
  {
   "cell_type": "markdown",
   "metadata": {
    "deletable": true,
    "editable": true
   },
   "source": [
    "# IV - Text classification with bag-of-words"
   ]
  },
  {
   "cell_type": "markdown",
   "metadata": {
    "deletable": true,
    "editable": true
   },
   "source": [
    "In this part, we are going to perform classification of IMDB movie reviews using the word vectors and the bag-of-words representation."
   ]
  },
  {
   "cell_type": "markdown",
   "metadata": {
    "deletable": true,
    "editable": true
   },
   "source": [
    "## IV.1) Let's load and tokenize the IMDB dataset"
   ]
  },
  {
   "cell_type": "code",
   "execution_count": 18,
   "metadata": {
    "collapsed": false,
    "deletable": true,
    "editable": true
   },
   "outputs": [],
   "source": [
    "def load_imdb():\n",
    "    imdb = {'train': {'S': [], 'X': [], 'y': []},\n",
    "            'valid': {'S': [], 'X': [], 'y': []},\n",
    "            'test': {'S': [], 'X': [], 'y': []}}\n",
    "    for split in ['train', 'valid', 'test']:\n",
    "        with open('data/%s.txt' % split) as f:\n",
    "            for line in f:\n",
    "                y, sent = line.rstrip().split('\\t', 1)\n",
    "                assert y in ['pos', 'neg']\n",
    "                imdb[split]['S'].append(sent)\n",
    "                imdb[split]['y'].append(1 if y == 'pos' else 0)\n",
    "\n",
    "                assert len(imdb[split]['y']) == len(imdb[split]['S'])\n",
    "            print('Loaded %s %s IMDB samples' % (len(imdb[split]['y']), split.upper()))\n",
    "    return imdb"
   ]
  },
  {
   "cell_type": "code",
   "execution_count": 19,
   "metadata": {
    "collapsed": false,
    "deletable": true,
    "editable": true
   },
   "outputs": [
    {
     "name": "stdout",
     "output_type": "stream",
     "text": [
      "Loaded 25000 TRAIN IMDB samples\n",
      "Loaded 12500 VALID IMDB samples\n",
      "Loaded 12500 TEST IMDB samples\n"
     ]
    }
   ],
   "source": [
    "imdb = load_imdb()"
   ]
  },
  {
   "cell_type": "code",
   "execution_count": 20,
   "metadata": {
    "collapsed": false,
    "deletable": true,
    "editable": true
   },
   "outputs": [
    {
     "name": "stdout",
     "output_type": "stream",
     "text": [
      "REVIEW: \n",
      "This film has great acting, great photography and a very strong story line that really makes you think about who you are, how you define yourself, how you fit in, whether you accept to play a role or break free... There already are excellent comments dealing with these aspects. I want to comment on the formal setting of the film. Basically, it's two people on a roof. There is unity of place and time, with 2 protagonists, and the radio acting as the choir. Many directors have turned Greek tragedies into film, many directors have filmed contemporary stories as if they were a Greek tragedy, but no director, in my opinion, has succeeded as admirably as Ettore Scola in approaching the purity and force of the great Greek tragedies both in story line and formal setting. A masterpiece.\n",
      "\n",
      "LABEL: 1\n"
     ]
    }
   ],
   "source": [
    "print('REVIEW: \\n%s\\n' % imdb['train']['S'][0])\n",
    "print('LABEL: %s' % imdb['train']['y'][0])"
   ]
  },
  {
   "cell_type": "markdown",
   "metadata": {
    "deletable": true,
    "editable": true
   },
   "source": [
    "### This data is not tokenized .. let's use NLTK"
   ]
  },
  {
   "cell_type": "code",
   "execution_count": 21,
   "metadata": {
    "collapsed": false,
    "deletable": true,
    "editable": true
   },
   "outputs": [
    {
     "name": "stdout",
     "output_type": "stream",
     "text": [
      "[nltk_data] Downloading package punkt to\n",
      "[nltk_data]     C:\\Users\\victo\\AppData\\Roaming\\nltk_data...\n",
      "[nltk_data]   Package punkt is already up-to-date!\n"
     ]
    }
   ],
   "source": [
    "import nltk\n",
    "nltk.download('punkt') # do it only once!\n",
    "from nltk.tokenize import word_tokenize"
   ]
  },
  {
   "cell_type": "code",
   "execution_count": 22,
   "metadata": {
    "collapsed": false,
    "deletable": true,
    "editable": true
   },
   "outputs": [
    {
     "name": "stdout",
     "output_type": "stream",
     "text": [
      "['I', \"'m\", 'feeling', 'good', '.']\n",
      "I 'm feeling good .\n"
     ]
    }
   ],
   "source": [
    "sent = word_tokenize(\"I'm feeling good.\")\n",
    "print(sent)\n",
    "print(' '.join(sent))"
   ]
  },
  {
   "cell_type": "markdown",
   "metadata": {
    "deletable": true,
    "editable": true
   },
   "source": [
    "## TODO: modify the function \"load_imdb\" and tokenize text properly with  NLTK"
   ]
  },
  {
   "cell_type": "code",
   "execution_count": 37,
   "metadata": {
    "collapsed": false,
    "deletable": true,
    "editable": true
   },
   "outputs": [],
   "source": [
    "import io\n",
    "\n",
    "def load_imdb2():\n",
    "    imdb = {'train': {'S': [], 'X': [], 'y': []},\n",
    "            'valid': {'S': [], 'X': [], 'y': []},\n",
    "            'test': {'S': [], 'X': [], 'y': []}}\n",
    "    for split in ['train', 'valid', 'test']:\n",
    "        with io.open('data/%s.txt' % split, 'rU', encoding='utf-8') as f: # changed\n",
    "            for line in f:\n",
    "                y, sent = line.rstrip().split('\\t', 1)\n",
    "                assert y in ['pos', 'neg']\n",
    "                #print(sent)\n",
    "                imdb[split]['S'].append(word_tokenize(sent)) #changed\n",
    "                imdb[split]['y'].append(1 if y == 'pos' else 0)\n",
    "\n",
    "                assert len(imdb[split]['y']) == len(imdb[split]['S'])\n",
    "            print('Loaded %s %s IMDB samples' % (len(imdb[split]['y']), split.upper()))\n",
    "    return imdb"
   ]
  },
  {
   "cell_type": "code",
   "execution_count": 38,
   "metadata": {
    "collapsed": false
   },
   "outputs": [
    {
     "name": "stdout",
     "output_type": "stream",
     "text": [
      "Loaded 25000 TRAIN IMDB samples\n",
      "Loaded 12500 VALID IMDB samples\n",
      "Loaded 12500 TEST IMDB samples\n"
     ]
    }
   ],
   "source": [
    "imdb2 = load_imdb2()"
   ]
  },
  {
   "cell_type": "markdown",
   "metadata": {
    "deletable": true,
    "editable": true
   },
   "source": [
    "## IV.2) **fastText word embeddings**\n",
    "\n",
    "(not the ones we just trained but others that are way more powerful)\n",
    "\n",
    "We are going to load 200k word vectors from **\"data/crawl-300d-200k.vec\"**."
   ]
  },
  {
   "cell_type": "code",
   "execution_count": 47,
   "metadata": {
    "collapsed": true,
    "deletable": true,
    "editable": true
   },
   "outputs": [],
   "source": [
    "def get_wordvec(fname, nmax=100000):\n",
    "    wordvec = {}\n",
    "    with open(fname) as f:\n",
    "        next(f)\n",
    "        for i, line in enumerate(f):\n",
    "            word, vec = line.split(' ', 1) # split only the first ' ' it encounters\n",
    "            wordvec[word] = np.fromstring(vec, sep=' ')\n",
    "            if i == (nmax - 1):\n",
    "                break\n",
    "    print('Loaded %s English pretrained fastText word vectors' % (len(wordvec)))\n",
    "    return wordvec"
   ]
  },
  {
   "cell_type": "code",
   "execution_count": 48,
   "metadata": {
    "collapsed": false,
    "deletable": true,
    "editable": true
   },
   "outputs": [
    {
     "name": "stdout",
     "output_type": "stream",
     "text": [
      "Loaded 50000 English pretrained fastText word vectors\n"
     ]
    }
   ],
   "source": [
    "wordvec = get_wordvec('data/crawl-300d-200k.vec', nmax=50000)"
   ]
  },
  {
   "cell_type": "markdown",
   "metadata": {
    "deletable": true,
    "editable": true
   },
   "source": [
    "## IV.3) **Document features with (continuous) bag-of-words**"
   ]
  },
  {
   "cell_type": "code",
   "execution_count": 49,
   "metadata": {
    "collapsed": true,
    "deletable": true,
    "editable": true
   },
   "outputs": [],
   "source": [
    "def sent2vec(sentences, wordvec):\n",
    "    sentemb = []\n",
    "    for sent in sentences:\n",
    "        sentemb.append(np.mean([wordvec[w] for w in sent.split() if w in wordvec], axis=0))\n",
    "    return np.vstack(sentemb)"
   ]
  },
  {
   "cell_type": "code",
   "execution_count": 50,
   "metadata": {
    "collapsed": false,
    "deletable": true,
    "editable": true
   },
   "outputs": [],
   "source": [
    "for split in ['train', 'valid', 'test']:\n",
    "    imdb[split]['X'] = sent2vec(imdb[split]['S'], wordvec)"
   ]
  },
  {
   "cell_type": "code",
   "execution_count": 51,
   "metadata": {
    "collapsed": false,
    "deletable": true,
    "editable": true
   },
   "outputs": [
    {
     "name": "stdout",
     "output_type": "stream",
     "text": [
      "(25000L, 300L)\n",
      "(12500L, 300L)\n",
      "(12500L, 300L)\n"
     ]
    }
   ],
   "source": [
    "print(imdb['train']['X'].shape)\n",
    "print(imdb['valid']['X'].shape)\n",
    "print(imdb['test']['X'].shape)"
   ]
  },
  {
   "cell_type": "markdown",
   "metadata": {
    "deletable": true,
    "editable": true
   },
   "source": [
    "## IV.4) Logistic Regression with scikit-learn"
   ]
  },
  {
   "cell_type": "markdown",
   "metadata": {
    "deletable": true,
    "editable": true
   },
   "source": [
    "For Machine Learning classifier models that do not require neural networks, it's sometimes (way) easier to use scikit-learn. Scikit-learn namely provides a simple implementation of Logistic regression and other classical classification methods."
   ]
  },
  {
   "cell_type": "code",
   "execution_count": 54,
   "metadata": {
    "collapsed": true,
    "deletable": true,
    "editable": true
   },
   "outputs": [],
   "source": [
    "from sklearn.linear_model import LogisticRegression"
   ]
  },
  {
   "cell_type": "markdown",
   "metadata": {
    "deletable": true,
    "editable": true
   },
   "source": [
    "# TODO\n",
    "## i) Perform IMDB classification with sklearn Logistic Regression\n",
    "## ii) Select best L2-regularization wrt valid accuracy\n",
    "## iii) Report test result with this optimal L2-reg"
   ]
  },
  {
   "cell_type": "code",
   "execution_count": 61,
   "metadata": {
    "collapsed": false,
    "deletable": true,
    "editable": true
   },
   "outputs": [],
   "source": [
    "#\n",
    "# Use the functions below and scikit learn documentation: http://scikit-learn.org/stable/\n",
    "#\n",
    "\n",
    "valid_scores = []\n",
    "C = [2**t for t in range(-2, 4, 1)]\n",
    "# C: L2 regularization of the logistic-regression\n",
    "for reg in C:\n",
    "    clf = LogisticRegression(C=reg, random_state=1234)\n",
    "    clf.fit(imdb['train']['X'], imdb['train']['y'])\n",
    "    valid_scores.append(clf.score(imdb['valid']['X'], imdb['valid']['y']))\n",
    "    #clf.score(X_test, y_test)"
   ]
  },
  {
   "cell_type": "code",
   "execution_count": 62,
   "metadata": {
    "collapsed": false
   },
   "outputs": [],
   "source": [
    "c = C[np.argmax(valid_scores)]"
   ]
  },
  {
   "cell_type": "code",
   "execution_count": 63,
   "metadata": {
    "collapsed": false
   },
   "outputs": [
    {
     "data": {
      "text/plain": [
       "0.84648000000000001"
      ]
     },
     "execution_count": 63,
     "metadata": {},
     "output_type": "execute_result"
    }
   ],
   "source": [
    "clf = LogisticRegression(C=c, random_state=1234)\n",
    "clf.fit(imdb['train']['X'], imdb['train']['y'])\n",
    "clf.score(imdb['test']['X'], imdb['test']['y'])"
   ]
  },
  {
   "cell_type": "code",
   "execution_count": null,
   "metadata": {
    "collapsed": true
   },
   "outputs": [],
   "source": []
  }
 ],
 "metadata": {
  "anaconda-cloud": {},
  "kernelspec": {
   "display_name": "Python [conda env:py27]",
   "language": "python",
   "name": "conda-env-py27-py"
  },
  "language_info": {
   "codemirror_mode": {
    "name": "ipython",
    "version": 2
   },
   "file_extension": ".py",
   "mimetype": "text/x-python",
   "name": "python",
   "nbconvert_exporter": "python",
   "pygments_lexer": "ipython2",
   "version": "2.7.14"
  }
 },
 "nbformat": 4,
 "nbformat_minor": 0
}
