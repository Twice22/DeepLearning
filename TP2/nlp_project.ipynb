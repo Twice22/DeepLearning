{
 "cells": [
  {
   "cell_type": "markdown",
   "metadata": {
    "deletable": true,
    "editable": true
   },
   "source": [
    "# Deep Learning for NLP - Project"
   ]
  },
  {
   "cell_type": "markdown",
   "metadata": {
    "deletable": true,
    "editable": true
   },
   "source": [
    "RULES:\n",
    "\n",
    "* Do not create any additional cell\n",
    "\n",
    "* Fill in the blanks\n",
    "\n",
    "* All cells should be runnable (modulo trivial compatibility bugs that we'd fix)\n",
    "\n",
    "* 4 / 20 points will be allocated to the clarity of your code\n",
    "\n",
    "* Efficient code will have a bonus\n",
    "\n",
    "DELIVERABLE:\n",
    "\n",
    "* this notebook\n",
    "* the predictions of the SST test set\n",
    "\n",
    "DO NOT INCLUDE THE DATASETS IN THE DELIVERABLE.."
   ]
  },
  {
   "cell_type": "code",
   "execution_count": 1,
   "metadata": {
    "collapsed": false,
    "deletable": true,
    "editable": true
   },
   "outputs": [],
   "source": [
    "%load_ext autoreload\n",
    "%autoreload 2\n",
    "\n",
    "import io\n",
    "import os\n",
    "import numpy as np\n",
    "import scipy\n",
    "import time\n",
    "from pprint import pprint\n",
    "\n",
    "%matplotlib inline\n",
    "\n",
    "import matplotlib\n",
    "import numpy as np\n",
    "import matplotlib.pyplot as plt"
   ]
  },
  {
   "cell_type": "code",
   "execution_count": 2,
   "metadata": {
    "collapsed": true,
    "deletable": true,
    "editable": true
   },
   "outputs": [],
   "source": [
    "PATH_TO_DATA = \"data/\""
   ]
  },
  {
   "cell_type": "markdown",
   "metadata": {
    "deletable": true,
    "editable": true
   },
   "source": [
    "# 1) Monolingual (English) word embeddings "
   ]
  },
  {
   "cell_type": "code",
   "execution_count": 3,
   "metadata": {
    "collapsed": false,
    "deletable": true,
    "editable": true
   },
   "outputs": [],
   "source": [
    "class Word2vec():\n",
    "    def __init__(self, fname, nmax=100000):\n",
    "        self.load_wordvec(fname, nmax)\n",
    "        \n",
    "        self.word2id = {w: i for i, w in enumerate(self.word2vec.keys())}\n",
    "        self.id2word = {v: k for k, v in self.word2id.items()}\n",
    "        \n",
    "        # self.embeddings was empty. needed to add list() in Python 3 because\n",
    "        # values() return an iterator in Python3\n",
    "        self.embeddings = np.array(list(self.word2vec.values()))\n",
    "    \n",
    "    def load_wordvec(self, fname, nmax):\n",
    "        self.word2vec = {}\n",
    "        with io.open(fname, encoding='utf-8') as f:\n",
    "            next(f) # to skip the header\n",
    "            i = 0\n",
    "            for line in f:\n",
    "                word, vec = line.split(' ', 1)\n",
    "                # lower the word because in the future sentences.txt have no Maj\n",
    "                # so it will work if we load only the 5000 fist word2vec....\n",
    "                \n",
    "                # add if condition, otherwise Cat will be overwriten\n",
    "                # by cat and we will have bad results as w2v[cat] != w2v[Cat]\n",
    "                if word.lower() not in self.word2vec:\n",
    "                    self.word2vec[word.lower()] = np.fromstring(vec, sep=' ')\n",
    "                    i += 1\n",
    "                if i == nmax:\n",
    "                    break\n",
    "        print('Loaded %s pretrained word vectors' % (len(self.word2vec)))\n",
    "\n",
    "    def most_similar(self, w, K=5):\n",
    "        # K most similar words: self.score  -  np.argsort        \n",
    "        keys = self.embeddings / np.linalg.norm(self.embeddings, 2, 1)[:, None]  # normalize embeddings\n",
    "        \n",
    "        idx = self.word2id[w]        \n",
    "        scores = keys[idx].dot(keys.T)  # dot-product of normalized vector = cosine similarity\n",
    "        \n",
    "        idxs = scores.argsort()[::-1][1:K+1]\n",
    "        \n",
    "        # return words + similarity\n",
    "        return sorted({self.id2word[idx]: \"%0.3f\" % (scores[idx]) for idx in idxs}.items(), key=lambda x: x[1])[::-1]\n",
    "\n",
    "    def score(self, w1, w2):\n",
    "        x, y = self.word2vec[w1], self.word2vec[w2] # get vector from dict\n",
    "        return x.T.dot(y) / ( np.linalg.norm(x) * np.linalg.norm(y))"
   ]
  },
  {
   "cell_type": "code",
   "execution_count": 4,
   "metadata": {
    "collapsed": false,
    "deletable": true,
    "editable": true
   },
   "outputs": [
    {
     "name": "stdout",
     "output_type": "stream",
     "text": [
      "Loaded 25000 pretrained word vectors\n",
      "cat dog 0.671683666279249\n",
      "dog pet 0.6842064029669219\n",
      "dogs cats 0.7074389328052403\n",
      "paris france 0.7058595452409974\n",
      "germany berlin 0.7060253015336013\n",
      "cat : [('cats', '0.835'), ('kitten', '0.802'), ('feline', '0.768'), ('kitties', '0.724'), ('dog', '0.672')]\n",
      "dog : [('dogs', '0.855'), ('puppy', '0.785'), ('doggie', '0.744'), ('canine', '0.742'), ('pup', '0.740')]\n",
      "dogs : [('dog', '0.855'), ('puppies', '0.714'), ('cats', '0.707'), ('canine', '0.696'), ('pets', '0.681')]\n",
      "paris : [('parisian', '0.733'), ('france', '0.706'), ('marseille', '0.622'), ('louvre', '0.616'), ('versailles', '0.614')]\n",
      "germany : [('austria', '0.717'), ('bavaria', '0.716'), ('berlin', '0.706'), ('munich', '0.698'), ('german', '0.683')]\n"
     ]
    }
   ],
   "source": [
    "w2v = Word2vec(os.path.join(PATH_TO_DATA, 'crawl-300d-200k.vec'), nmax=25000)\n",
    "\n",
    "# Note: either lower word or write Paris and non paris, Germany and non germany\n",
    "# ... If we lower word we will actually load 19765 vectors instead of 25000\n",
    "# But I still decided to lower the word because otherwise it won't work on part 2 if\n",
    "# we only load the first 5000 vectors as for example African with a Capital is not in the first 5000 words\n",
    "# while african with a lowercase is in the first 5000 words, so it will work.\n",
    "for w1, w2 in zip(('cat', 'dog', 'dogs', 'paris', 'germany'), ('dog', 'pet', 'cats', 'france', 'berlin')):\n",
    "    print(w1, w2, w2v.score(w1, w2))\n",
    "\n",
    "for w1 in ['cat', 'dog', 'dogs', 'paris', 'germany']: # Again need to write Paris with a P and germany with a G\n",
    "    print(w1, \":\", w2v.most_similar(w1))"
   ]
  },
  {
   "cell_type": "code",
   "execution_count": 24,
   "metadata": {
    "collapsed": false,
    "deletable": true,
    "editable": true
   },
   "outputs": [],
   "source": [
    "class BoV():\n",
    "    def __init__(self, w2v):\n",
    "        self.w2v = w2v\n",
    "    \n",
    "    # output as shape (nb_sentences=150736, dim_wordembd=300)\n",
    "    def encode(self, sentences, idf=False):\n",
    "        sentemb = []\n",
    "        \n",
    "        for k, sent in enumerate(sentences):\n",
    "            if idf is False:\n",
    "                weighted_emb = [w2v.embeddings[w2v.word2id[w]] for w in sent.split() if w in w2v.word2id]\n",
    "                if len(weighted_emb) != 0:\n",
    "                    sentemb.append(np.mean(weighted_emb, axis=0))\n",
    "            else:\n",
    "                weighted_emb = [w2v.embeddings[w2v.word2id[w]] * idf[w] for w in sent.split() if w in w2v.word2id]\n",
    "\n",
    "                if len(weighted_emb) != 0:\n",
    "                    sentemb.append(np.sum(weighted_emb, axis=0))\n",
    "        \n",
    "        return np.vstack(sentemb)\n",
    "\n",
    "    def most_similar(self, s, sentences, idf=False, K=5):\n",
    "        # get most similar sentences and **print** them\n",
    "        keys = self.encode(sentences, idf)\n",
    "        query = self.encode([s], idf).squeeze()\n",
    "        query /= np.linalg.norm(query) # not necessarily but to stay consistent and have a maximum similiraty of 1\n",
    "        \n",
    "        keys = keys / np.linalg.norm(keys, 2, 1)[:, None]  # normalize embeddings\n",
    "        scores = query.dot(keys.T)  # dot-product of normalized vector = cosine similarity        \n",
    "        idxs = scores.argsort()[::-1][1:K+1]\n",
    "        \n",
    "        # return sentences + similarity\n",
    "        return sorted({sentences[idx]: \"%0.3f\" % (scores[idx]) for idx in idxs}.items(), key=lambda x: x[1])[::-1]\n",
    "\n",
    "    def score(self, s1, s2, idf=False):\n",
    "        x = self.encode([s1], idf).squeeze()\n",
    "        y = self.encode([s2], idf).squeeze()\n",
    "        return x.T.dot(y) / ( np.linalg.norm(x) * np.linalg.norm(y))\n",
    "    \n",
    "    def build_idf(self, sentences):\n",
    "        # build the idf dictionary: associate each word to its idf value\n",
    "        idf = {}\n",
    "        for sent in sentences:\n",
    "            for w in set(sent.split()):\n",
    "                idf[w] = idf.get(w, 0) + 1\n",
    "        \n",
    "        for w in idf.keys():\n",
    "            idf[w] = max(1, np.log10(len(sentences) / (idf[w])))\n",
    "        \n",
    "        return idf"
   ]
  },
  {
   "cell_type": "code",
   "execution_count": 25,
   "metadata": {
    "collapsed": false,
    "deletable": true,
    "editable": true
   },
   "outputs": [
    {
     "name": "stdout",
     "output_type": "stream",
     "text": [
      "Loaded 5000 pretrained word vectors\n"
     ]
    },
    {
     "data": {
      "text/markdown": [
       "\n",
       "__Using mean BoV__"
      ],
      "text/plain": [
       "<IPython.core.display.Markdown object>"
      ]
     },
     "metadata": {},
     "output_type": "display_data"
    },
    {
     "name": "stdout",
     "output_type": "stream",
     "text": [
      "most similar 5 sentences to:  1 smiling african american boy .\n",
      "[('an african american man smiling .', '0.869'),\n",
      " ('african american female in a gray dress .', '0.817'),\n",
      " ('a little african american boy and girl looking up .', '0.814'),\n",
      " ('an african american man playing a saxophone .', '0.814'),\n",
      " ('an african american in sunglasses and a white tee-shirt smiles .', '0.813')]\n",
      "1 man singing and 1 man playing a saxophone in a concert .\n",
      "10 people venture out to go crosscountry skiing .\n",
      "0.6089445116147132\n"
     ]
    },
    {
     "data": {
      "text/markdown": [
       "\n",
       "__Using idf weighting__"
      ],
      "text/plain": [
       "<IPython.core.display.Markdown object>"
      ]
     },
     "metadata": {},
     "output_type": "display_data"
    },
    {
     "name": "stdout",
     "output_type": "stream",
     "text": [
      "most similar 5 sentences to:  1 smiling african american boy .\n",
      "[('an african american man smiling .', '0.876'),\n",
      " ('an african american in sunglasses and a white tee-shirt smiles .', '0.860'),\n",
      " ('an african american man playing a saxophone .', '0.852'),\n",
      " ('an african american man is sitting .', '0.850'),\n",
      " ('an african american male holding a microphone .', '0.833')]\n",
      "1 man singing and 1 man playing a saxophone in a concert .\n",
      "10 people venture out to go crosscountry skiing .\n",
      "0.5963335652885747\n"
     ]
    }
   ],
   "source": [
    "from IPython.display import Markdown, display\n",
    "def printmd(string):\n",
    "    display(Markdown(string))\n",
    "\n",
    "w2v = Word2vec(os.path.join(PATH_TO_DATA, 'crawl-300d-200k.vec'), nmax=5000)\n",
    "s2v = BoV(w2v)\n",
    "\n",
    "# Load sentences in \"PATH_TO_DATA/sentences.txt\"\n",
    "sentences = []\n",
    "with io.open(os.path.join(PATH_TO_DATA, 'sentences.txt'), encoding='utf-8') as f:\n",
    "    for line in f:\n",
    "        sentences.append(line.rstrip())\n",
    "\n",
    "# Build idf scores for each word\n",
    "idf = s2v.build_idf(sentences)\n",
    "\n",
    "# You will be evaluated on the output of the following:\n",
    "printmd(\"\\n__Using mean BoV__\")\n",
    "print(\"most similar 5 sentences to: \", sentences[10])\n",
    "pprint(s2v.most_similar('' if not sentences else sentences[10], sentences))  # BoV-mean\n",
    "\n",
    "print(sentences[7] + '\\n' + sentences[13])\n",
    "print(s2v.score('' if not sentences else sentences[7], '' if not sentences else sentences[13]))\n",
    "\n",
    "\n",
    "idf = s2v.build_idf(sentences)\n",
    "printmd(\"\\n__Using idf weighting__\")\n",
    "print(\"most similar 5 sentences to: \", sentences[10])\n",
    "pprint(s2v.most_similar('' if not sentences else sentences[10], sentences, idf))  # BoV-idf\n",
    "\n",
    "print(sentences[7] + '\\n' + sentences[13])\n",
    "print(s2v.score('' if not sentences else sentences[7], '' if not sentences else sentences[13], idf))"
   ]
  },
  {
   "cell_type": "markdown",
   "metadata": {
    "deletable": true,
    "editable": true
   },
   "source": [
    "# 2) Multilingual (English-French) word embeddings"
   ]
  },
  {
   "cell_type": "markdown",
   "metadata": {
    "deletable": true,
    "editable": true
   },
   "source": [
    "Let's consider a bilingual dictionary of size V_a (e.g French-English).\n",
    "\n",
    "Let's define **X** and **Y** the **French** and **English** matrices.\n",
    "\n",
    "They contain the embeddings associated to the words in the bilingual dictionary.\n",
    "\n",
    "We want to find a **mapping W** that will project the source word space (e.g French) to the target word space (e.g English).\n",
    "\n",
    "Procrustes : **W\\* = argmin || W.X - Y ||  s.t  W^T.W = Id**\n",
    "has a closed form solution:\n",
    "**W = U.V^T  where  U.Sig.V^T = SVD(Y.X^T)**\n",
    "\n",
    "In what follows, you are asked to: "
   ]
  },
  {
   "cell_type": "code",
   "execution_count": 26,
   "metadata": {
    "collapsed": false,
    "deletable": true,
    "editable": true
   },
   "outputs": [],
   "source": [
    "# 1 - Download and load 50k first vectors of\n",
    "#     https://s3-us-west-1.amazonaws.com/fasttext-vectors/wiki.en.vec\n",
    "#     https://s3-us-west-1.amazonaws.com/fasttext-vectors/wiki.fr.vec\n",
    "\n",
    "from collections import OrderedDict\n",
    "\n",
    "def load(filename):\n",
    "    w2v = OrderedDict()\n",
    "    with io.open(filename, encoding='utf-8') as f:\n",
    "        next(f) # to skip the header\n",
    "        for i, line in enumerate(f):\n",
    "            if i == 50000:\n",
    "                break\n",
    "            word, vec = line.split(' ', 1)\n",
    "            w2v[word] = np.fromstring(vec, sep=' ')\n",
    "    \n",
    "    return w2v\n",
    "\n",
    "en_w2v = load(os.path.join(PATH_TO_DATA, 'wiki.en.vec'))\n",
    "fr_w2v = load(os.path.join(PATH_TO_DATA, 'wiki.fr.vec'))"
   ]
  },
  {
   "cell_type": "code",
   "execution_count": 27,
   "metadata": {
    "collapsed": false,
    "deletable": true,
    "editable": true
   },
   "outputs": [
    {
     "name": "stdout",
     "output_type": "stream",
     "text": [
      "nb of similar words:  18970\n"
     ]
    }
   ],
   "source": [
    "# 2 - Get words that appear in both vocabs (= identical character strings)\n",
    "#     Use it to create the matrix X and Y (of aligned embeddings for these words)\n",
    "\n",
    "sim_words = [w for w in en_w2v.keys() if w in fr_w2v]\n",
    "print(\"nb of similar words: \", len(sim_words))\n",
    "\n",
    "def align_embd(dico, words, word2vec_dim=300):\n",
    "    X = np.zeros((word2vec_dim, len(words)))\n",
    "    for i, w in enumerate(words):\n",
    "        X[:,i] = dico[w]\n",
    "    \n",
    "    return X\n",
    "\n",
    "# X and Y have shape (300, 18970)\n",
    "X = align_embd(fr_w2v, sim_words)\n",
    "Y = align_embd(en_w2v, sim_words)"
   ]
  },
  {
   "cell_type": "code",
   "execution_count": 28,
   "metadata": {
    "collapsed": false,
    "deletable": true,
    "editable": true
   },
   "outputs": [],
   "source": [
    "# 3 - Solve the Procrustes using the scipy package and: scipy.linalg.svd() and get the optimal W\n",
    "#     Now W*French_vector is in the same space as English_vector\n",
    "import scipy.linalg as la\n",
    "\n",
    "U, S, Vh = la.svd(Y.dot(X.T), full_matrices=True)\n",
    "W = U.dot(Vh)"
   ]
  },
  {
   "cell_type": "code",
   "execution_count": 29,
   "metadata": {
    "collapsed": false,
    "deletable": true,
    "editable": true
   },
   "outputs": [
    {
     "name": "stdout",
     "output_type": "stream",
     "text": [
      "5 closest english words to the french word:  november\n",
      "[('november', 0.5261849522367746),\n",
      " ('june', 0.5253903375946429),\n",
      " ('october', 0.5235082151727514),\n",
      " ('december', 0.5180903659887707),\n",
      " ('february', 0.5178299454693243)]\n",
      "5 closest french words to the english word:  first\n",
      "[('first', 0.5813927538751525),\n",
      " ('premier', 0.5811306278512199),\n",
      " ('third', 0.5001826433709174),\n",
      " ('person', 0.4654406466211093),\n",
      " ('second', 0.4442531059393303)]\n"
     ]
    }
   ],
   "source": [
    "# 4 - After alignment with W, give examples of English nearest neighbors of some French words (and vice versa)\n",
    "#     You will be evaluated on that part and the code above\n",
    "\n",
    "# change idx to find closet words of any other word\n",
    "fr_idx = 150\n",
    "en_idx = 47\n",
    "\n",
    "# french word in the same space as english word\n",
    "Y_fr = W.dot(X)\n",
    "\n",
    "def k_crosslanguage_nearest_neighbors(y1, Y2, dico, K=5):\n",
    "    \"\"\"\n",
    "        Args:\n",
    "            y1 (1d-array): word embedding (for example Y_fr[1])\n",
    "            Y2 (2d-array): matrix of word embeddings in another language (Y_en)\n",
    "            dico (dict): dictionary that maps words idx in Y2 to word\n",
    "        Return:\n",
    "            K nearest words to y1 in Y2\n",
    "    \"\"\"\n",
    "    word_emb = y1 / np.linalg.norm(y1) # normalize word embedding\n",
    "    \n",
    "    # normalize embeddings matrix\n",
    "    word_mat = Y2 / np.linalg.norm(Y2, 2, 1)[:, None]\n",
    "    \n",
    "    # dot-product of normalized vector = cosine similarity\n",
    "    scores = word_emb.dot(word_mat.T)\n",
    "    \n",
    "    # get K closest neighbors (avoid itself: add 1 to K)\n",
    "    idxs = scores.argsort()[::-1][1:K+1]\n",
    "        \n",
    "    # return sentences + similarity\n",
    "    return [(dico[idx], scores[idx]) for idx in idxs]\n",
    "\n",
    "\n",
    "dico = {i: w for i, w in enumerate(sim_words)}\n",
    "print(\"5 closest english words to the french word: \", dico[fr_idx])\n",
    "pprint(k_crosslanguage_nearest_neighbors(Y_fr.T[fr_idx], Y.T, dico))\n",
    "\n",
    "print(\"5 closest french words to the english word: \", dico[en_idx])\n",
    "pprint(k_crosslanguage_nearest_neighbors(Y.T[en_idx], Y_fr.T, dico))"
   ]
  },
  {
   "cell_type": "markdown",
   "metadata": {
    "deletable": true,
    "editable": true
   },
   "source": [
    "If you want to dive deeper on this subject: https://github.com/facebookresearch/MUSE"
   ]
  },
  {
   "cell_type": "markdown",
   "metadata": {
    "deletable": true,
    "editable": true
   },
   "source": [
    "# 3) Sentence classification with BoV and scikit-learn"
   ]
  },
  {
   "cell_type": "code",
   "execution_count": 7,
   "metadata": {
    "collapsed": false,
    "deletable": true,
    "editable": true
   },
   "outputs": [],
   "source": [
    "# 1 - Load train/dev/test of Stanford Sentiment TreeBank (SST)\n",
    "#     (https://nlp.stanford.edu/~socherr/EMNLP2013_RNTN.pdf)\n",
    "\n",
    "PATH_TO_SST = 'data/SST/'\n",
    "\n",
    "def load_tb(filename, test=False):\n",
    "    sentences = []\n",
    "    labels = []\n",
    "    with io.open(filename, encoding='utf-8') as f:\n",
    "        for line in f:\n",
    "            if not test:\n",
    "                label, line = line.split(' ', 1)\n",
    "                labels.append(label)\n",
    "            sentences.append(line.rstrip())\n",
    "    \n",
    "    return sentences, labels\n",
    "\n",
    "sst_test, _ = load_tb(os.path.join(PATH_TO_SST, 'stsa.fine.test.X'), True)\n",
    "sst_dev, sst_dev_label = load_tb(os.path.join(PATH_TO_SST, 'stsa.fine.dev'))\n",
    "sst_train, sst_train_label = load_tb(os.path.join(PATH_TO_SST, 'stsa.fine.train'))"
   ]
  },
  {
   "cell_type": "code",
   "execution_count": null,
   "metadata": {
    "collapsed": false,
    "deletable": true,
    "editable": true
   },
   "outputs": [],
   "source": [
    "# 2 - Encode sentences with the BoV model above\n",
    "\n",
    "# load word2vec with all the words\n",
    "w2v = Word2vec(os.path.join(PATH_TO_DATA, 'crawl-300d-200k.vec'), nmax=200000)\n",
    "s2v = BoV(w2v)\n",
    "\n",
    "activate_idf = False # set True to use idf\n",
    "\n",
    "# NOTE: be sure to have set nmax=200000 when creating the word2vec embeddings\n",
    "idf = False if activate_idf is False else s2v.build_idf(sst_test)\n",
    "sst_test_emb = s2v.encode(sst_test, idf=idf)\n",
    "\n",
    "idf = False if activate_idf is False else s2v.build_idf(sst_dev)\n",
    "sst_dev_emb = s2v.encode(sst_dev, idf=idf)\n",
    "\n",
    "idf = False if activate_idf is False else s2v.build_idf(sst_train)\n",
    "sst_train_emb = s2v.encode(sst_train, idf=idf)"
   ]
  },
  {
   "cell_type": "code",
   "execution_count": null,
   "metadata": {
    "collapsed": false,
    "deletable": true,
    "editable": true
   },
   "outputs": [],
   "source": [
    "# 3 - Learn Logistic Regression on top of sentence embeddings using scikit-learn\n",
    "#     (consider tuning the L2 regularization on the dev set)\n",
    "\n",
    "# best values found using C value in Cs = np.logspace(-3, 3, 100)\n",
    "# mean: 0.447 1.417\n",
    "# idf: 0.4159 C = 0.001\n",
    "\n",
    "from sklearn.linear_model import LogisticRegression\n",
    "\n",
    "logreg = LogisticRegression(solver='sag', C=1.41, n_jobs=-1)\n",
    "\n",
    "logreg.fit(sst_train_emb, sst_train_label)\n",
    "predictions = logreg.predict(sst_dev_emb)\n",
    "\n",
    "# print accuracy on the dev set (we have the ground truth)\n",
    "score_train = logreg.score(sst_train_emb, sst_train_label)\n",
    "score = logreg.score(sst_dev_emb, sst_dev_label)\n",
    "\n",
    "print(\"accuracy on training set: \", score_train)\n",
    "print(\"accuracy on dev set: \", score)"
   ]
  },
  {
   "cell_type": "code",
   "execution_count": 16,
   "metadata": {
    "collapsed": false,
    "deletable": true,
    "editable": true
   },
   "outputs": [],
   "source": [
    "# 4 - Produce 2210 predictions for the test set (in the same order). One line = one prediction (=0,1,2,3,4).\n",
    "#     Attach the output file \"logreg_bov_y_test_sst.txt\" to your deliverable.\n",
    "#     You will be evaluated on the results of the test set.\n",
    "\n",
    "predicted_label = logreg.predict(sst_test_emb)\n",
    "\n",
    "with io.open('logreg_bov_y_test_sst.txt', 'w') as f:\n",
    "    for e in predicted_label:\n",
    "        f.write(\"%s\\n\" % e)"
   ]
  },
  {
   "cell_type": "code",
   "execution_count": 17,
   "metadata": {
    "collapsed": false,
    "deletable": true,
    "editable": true
   },
   "outputs": [
    {
     "ename": "KeyboardInterrupt",
     "evalue": "",
     "output_type": "error",
     "traceback": [
      "\u001b[1;31m---------------------------------------------------------------------------\u001b[0m",
      "\u001b[1;31mKeyboardInterrupt\u001b[0m                         Traceback (most recent call last)",
      "\u001b[1;32m<ipython-input-17-8f299ac48208>\u001b[0m in \u001b[0;36m<module>\u001b[1;34m()\u001b[0m\n\u001b[0;32m     24\u001b[0m \u001b[0mnum_round\u001b[0m \u001b[1;33m=\u001b[0m \u001b[1;36m20\u001b[0m  \u001b[1;31m# the number of training iterations\u001b[0m\u001b[1;33m\u001b[0m\u001b[0m\n\u001b[0;32m     25\u001b[0m \u001b[1;33m\u001b[0m\u001b[0m\n\u001b[1;32m---> 26\u001b[1;33m \u001b[0mbst\u001b[0m \u001b[1;33m=\u001b[0m \u001b[0mxgb\u001b[0m\u001b[1;33m.\u001b[0m\u001b[0mtrain\u001b[0m\u001b[1;33m(\u001b[0m\u001b[0mparam\u001b[0m\u001b[1;33m,\u001b[0m \u001b[0mdtrain\u001b[0m\u001b[1;33m,\u001b[0m \u001b[0mnum_round\u001b[0m\u001b[1;33m)\u001b[0m\u001b[1;33m\u001b[0m\u001b[0m\n\u001b[0m\u001b[0;32m     27\u001b[0m \u001b[1;33m\u001b[0m\u001b[0m\n\u001b[0;32m     28\u001b[0m \u001b[0mtrains\u001b[0m \u001b[1;33m=\u001b[0m \u001b[0mbst\u001b[0m\u001b[1;33m.\u001b[0m\u001b[0mpredict\u001b[0m\u001b[1;33m(\u001b[0m\u001b[0mdtrain\u001b[0m\u001b[1;33m)\u001b[0m\u001b[1;33m\u001b[0m\u001b[0m\n",
      "\u001b[1;32mC:\\Anaconda3\\envs\\aind-dog\\lib\\site-packages\\xgboost-0.7-py3.5.egg\\xgboost\\training.py\u001b[0m in \u001b[0;36mtrain\u001b[1;34m(params, dtrain, num_boost_round, evals, obj, feval, maximize, early_stopping_rounds, evals_result, verbose_eval, xgb_model, callbacks, learning_rates)\u001b[0m\n\u001b[0;32m    202\u001b[0m                            \u001b[0mevals\u001b[0m\u001b[1;33m=\u001b[0m\u001b[0mevals\u001b[0m\u001b[1;33m,\u001b[0m\u001b[1;33m\u001b[0m\u001b[0m\n\u001b[0;32m    203\u001b[0m                            \u001b[0mobj\u001b[0m\u001b[1;33m=\u001b[0m\u001b[0mobj\u001b[0m\u001b[1;33m,\u001b[0m \u001b[0mfeval\u001b[0m\u001b[1;33m=\u001b[0m\u001b[0mfeval\u001b[0m\u001b[1;33m,\u001b[0m\u001b[1;33m\u001b[0m\u001b[0m\n\u001b[1;32m--> 204\u001b[1;33m                            xgb_model=xgb_model, callbacks=callbacks)\n\u001b[0m\u001b[0;32m    205\u001b[0m \u001b[1;33m\u001b[0m\u001b[0m\n\u001b[0;32m    206\u001b[0m \u001b[1;33m\u001b[0m\u001b[0m\n",
      "\u001b[1;32mC:\\Anaconda3\\envs\\aind-dog\\lib\\site-packages\\xgboost-0.7-py3.5.egg\\xgboost\\training.py\u001b[0m in \u001b[0;36m_train_internal\u001b[1;34m(params, dtrain, num_boost_round, evals, obj, feval, xgb_model, callbacks)\u001b[0m\n\u001b[0;32m     72\u001b[0m         \u001b[1;31m# Skip the first update if it is a recovery step.\u001b[0m\u001b[1;33m\u001b[0m\u001b[1;33m\u001b[0m\u001b[0m\n\u001b[0;32m     73\u001b[0m         \u001b[1;32mif\u001b[0m \u001b[0mversion\u001b[0m \u001b[1;33m%\u001b[0m \u001b[1;36m2\u001b[0m \u001b[1;33m==\u001b[0m \u001b[1;36m0\u001b[0m\u001b[1;33m:\u001b[0m\u001b[1;33m\u001b[0m\u001b[0m\n\u001b[1;32m---> 74\u001b[1;33m             \u001b[0mbst\u001b[0m\u001b[1;33m.\u001b[0m\u001b[0mupdate\u001b[0m\u001b[1;33m(\u001b[0m\u001b[0mdtrain\u001b[0m\u001b[1;33m,\u001b[0m \u001b[0mi\u001b[0m\u001b[1;33m,\u001b[0m \u001b[0mobj\u001b[0m\u001b[1;33m)\u001b[0m\u001b[1;33m\u001b[0m\u001b[0m\n\u001b[0m\u001b[0;32m     75\u001b[0m             \u001b[0mbst\u001b[0m\u001b[1;33m.\u001b[0m\u001b[0msave_rabit_checkpoint\u001b[0m\u001b[1;33m(\u001b[0m\u001b[1;33m)\u001b[0m\u001b[1;33m\u001b[0m\u001b[0m\n\u001b[0;32m     76\u001b[0m             \u001b[0mversion\u001b[0m \u001b[1;33m+=\u001b[0m \u001b[1;36m1\u001b[0m\u001b[1;33m\u001b[0m\u001b[0m\n",
      "\u001b[1;32mC:\\Anaconda3\\envs\\aind-dog\\lib\\site-packages\\xgboost-0.7-py3.5.egg\\xgboost\\core.py\u001b[0m in \u001b[0;36mupdate\u001b[1;34m(self, dtrain, iteration, fobj)\u001b[0m\n\u001b[0;32m    893\u001b[0m         \u001b[1;32mif\u001b[0m \u001b[0mfobj\u001b[0m \u001b[1;32mis\u001b[0m \u001b[1;32mNone\u001b[0m\u001b[1;33m:\u001b[0m\u001b[1;33m\u001b[0m\u001b[0m\n\u001b[0;32m    894\u001b[0m             _check_call(_LIB.XGBoosterUpdateOneIter(self.handle, ctypes.c_int(iteration),\n\u001b[1;32m--> 895\u001b[1;33m                                                     dtrain.handle))\n\u001b[0m\u001b[0;32m    896\u001b[0m         \u001b[1;32melse\u001b[0m\u001b[1;33m:\u001b[0m\u001b[1;33m\u001b[0m\u001b[0m\n\u001b[0;32m    897\u001b[0m             \u001b[0mpred\u001b[0m \u001b[1;33m=\u001b[0m \u001b[0mself\u001b[0m\u001b[1;33m.\u001b[0m\u001b[0mpredict\u001b[0m\u001b[1;33m(\u001b[0m\u001b[0mdtrain\u001b[0m\u001b[1;33m)\u001b[0m\u001b[1;33m\u001b[0m\u001b[0m\n",
      "\u001b[1;31mKeyboardInterrupt\u001b[0m: "
     ]
    }
   ],
   "source": [
    "# BONUS!\n",
    "# 5 - Try to improve performance with another classifier\n",
    "#     Attach the output file \"XXX_bov_y_test_sst.txt\" to your deliverable (where XXX = the name of the classifier)\n",
    "import xgboost as xgb\n",
    "\n",
    "# use DMatrix for xgboost\n",
    "dtrain = xgb.DMatrix(sst_train_emb, label=sst_train_label)\n",
    "dtest = xgb.DMatrix(sst_dev_emb, label=sst_dev_label)\n",
    "\n",
    "\n",
    "param = {\n",
    "    'booster': 'dart',\n",
    "    'max_depth': 6,  # the maximum depth of each tree\n",
    "    'eta': 0.3,  # the training step for each iteration\n",
    "    'silent': 1,  # logging mode - quiet\n",
    "    'objective': 'multi:softprob',  # error evaluation for multiclass training\n",
    "    'num_class': 5, # the number of classes that exist in this datset\n",
    "    'tree_method': 'gpu_hist',\n",
    "    'lambda': 2,\n",
    "    'alpha': 2,\n",
    "    'eval_metric': 'mlogloss'\n",
    "}  \n",
    "\n",
    "num_round = 20  # the number of training iterations\n",
    "\n",
    "bst = xgb.train(param, dtrain, num_round)\n",
    "\n",
    "trains = bst.predict(dtrain)\n",
    "preds = bst.predict(dtest)\n",
    "\n",
    "train_acc = len(np.where(np.argmax(trains, axis=1) == np.array(sst_train_label, dtype=np.int))[0]) / len(sst_train_label)\n",
    "test_acc = len(np.where(np.argmax(preds, axis=1) == np.array(sst_dev_label, dtype=np.int))[0]) / len(sst_dev_label)\n",
    "\n",
    "print(\"accuracy on training set: \", train_acc)\n",
    "print(\"accuracy on dev set: \", test_acc)"
   ]
  },
  {
   "cell_type": "markdown",
   "metadata": {
    "deletable": true,
    "editable": true
   },
   "source": [
    "# 4) Sentence classification with LSTMs in Keras"
   ]
  },
  {
   "cell_type": "markdown",
   "metadata": {
    "deletable": true,
    "editable": true
   },
   "source": [
    "## 4.1 - Preprocessing"
   ]
  },
  {
   "cell_type": "code",
   "execution_count": 5,
   "metadata": {
    "collapsed": false,
    "deletable": true,
    "editable": true
   },
   "outputs": [
    {
     "name": "stderr",
     "output_type": "stream",
     "text": [
      "C:\\Anaconda3\\envs\\aind-dog\\lib\\site-packages\\h5py\\__init__.py:36: FutureWarning: Conversion of the second argument of issubdtype from `float` to `np.floating` is deprecated. In future, it will be treated as `np.float64 == np.dtype(float).type`.\n",
      "  from ._conv import register_converters as _register_converters\n",
      "Using TensorFlow backend.\n"
     ]
    }
   ],
   "source": [
    "import keras"
   ]
  },
  {
   "cell_type": "code",
   "execution_count": 8,
   "metadata": {
    "collapsed": false,
    "deletable": true,
    "editable": true
   },
   "outputs": [],
   "source": [
    "# 1 - Load train/dev/test sets of SST\n",
    "PATH_TO_SST = 'data/SST/'\n",
    "\n",
    "sst_test, _ = load_tb(os.path.join(PATH_TO_SST, 'stsa.fine.test.X'), True)\n",
    "sst_dev, sst_dev_label = load_tb(os.path.join(PATH_TO_SST, 'stsa.fine.dev'))\n",
    "sst_train, sst_train_label = load_tb(os.path.join(PATH_TO_SST, 'stsa.fine.train'))"
   ]
  },
  {
   "cell_type": "code",
   "execution_count": 9,
   "metadata": {
    "collapsed": false,
    "deletable": true,
    "editable": true
   },
   "outputs": [],
   "source": [
    "# 2 - Transform text to integers using keras.preprocessing.text.one_hot function\n",
    "#     https://keras.io/preprocessing/text/\n",
    "\n",
    "from keras.preprocessing.text import text_to_word_sequence, one_hot\n",
    "\n",
    "def get_vocsize(*args):\n",
    "    r = []\n",
    "    \n",
    "    for a in args:\n",
    "        for e in a:\n",
    "            words = text_to_word_sequence(e)\n",
    "            for w in words:\n",
    "                r.append(w)\n",
    "            \n",
    "    return len(list(set(r)))\n",
    "\n",
    "\n",
    "def text_to_num(n, *args):\n",
    "    r = []\n",
    "    \n",
    "    for a in args:\n",
    "        data = []\n",
    "        for e in a:\n",
    "            data.append(one_hot(e, n))\n",
    "        \n",
    "        r.append(data)\n",
    "    \n",
    "    return np.array(r[0]), np.array(r[1]), np.array(r[2])\n",
    "\n",
    "n = get_vocsize(sst_test, sst_dev, sst_train)\n",
    "X_train, X_dev, X_test = text_to_num(n, sst_train, sst_dev, sst_test)"
   ]
  },
  {
   "cell_type": "markdown",
   "metadata": {
    "deletable": true,
    "editable": true
   },
   "source": [
    "**Padding input data**\n",
    "\n",
    "Models in Keras (and elsewhere) take batches of sentences of the same length as input. It is because Deep Learning framework have been designed to handle well Tensors, which are particularly suited for fast computation on the GPU.\n",
    "\n",
    "Since sentences have different sizes, we \"pad\" them. That is, we add dummy \"padding\" tokens so that they all have the same length.\n",
    "\n",
    "The input to a Keras model thus has this size : (batchsize, maxseqlen) where maxseqlen is the maximum length of a sentence in the batch."
   ]
  },
  {
   "cell_type": "code",
   "execution_count": 19,
   "metadata": {
    "collapsed": false,
    "deletable": true,
    "editable": true
   },
   "outputs": [],
   "source": [
    "# 3 - Pad your sequences using keras.preprocessing.sequence.pad_sequences\n",
    "#     https://keras.io/preprocessing/sequence/\n",
    "\n",
    "from keras.preprocessing.sequence import pad_sequences\n",
    "\n",
    "X_train = pad_sequences(X_train)\n",
    "X_dev = pad_sequences(X_dev)\n",
    "X_test = pad_sequences(X_test)"
   ]
  },
  {
   "cell_type": "markdown",
   "metadata": {
    "deletable": true,
    "editable": true
   },
   "source": [
    "## 4.2 - Design and train your model"
   ]
  },
  {
   "cell_type": "code",
   "execution_count": 58,
   "metadata": {
    "collapsed": false,
    "deletable": true,
    "editable": true
   },
   "outputs": [],
   "source": [
    "# 4 - Design your encoder + classifier using keras.layers\n",
    "#     In Keras, Torch and other deep learning framework, we create a \"container\" which is the Sequential() module.\n",
    "#     Then we add components to this contained : the lookuptable, the LSTM, the classifier etc.\n",
    "#     All of these components are contained in the Sequential() and are trained together.\n",
    "\n",
    "from keras.models import Sequential\n",
    "from keras import regularizers\n",
    "from keras.layers import *\n",
    "\n",
    "embed_dim  = 64  # word embedding dimension\n",
    "nhid       = 32  # number of hidden units in the LSTM\n",
    "vocab_size = n  # size of the vocabulary\n",
    "n_classes  = 5\n",
    "\n",
    "model = Sequential()\n",
    "model.add(Embedding(vocab_size, embed_dim))\n",
    "model.add(LSTM(nhid, return_sequences=False))\n",
    "model.add(Dropout(0.2))\n",
    "model.add(Dense(n_classes, activation='softmax'))"
   ]
  },
  {
   "cell_type": "code",
   "execution_count": 59,
   "metadata": {
    "collapsed": false,
    "deletable": true,
    "editable": true
   },
   "outputs": [
    {
     "name": "stdout",
     "output_type": "stream",
     "text": [
      "_________________________________________________________________\n",
      "Layer (type)                 Output Shape              Param #   \n",
      "=================================================================\n",
      "embedding_20 (Embedding)     (None, None, 64)          1141696   \n",
      "_________________________________________________________________\n",
      "lstm_37 (LSTM)               (None, 32)                12416     \n",
      "_________________________________________________________________\n",
      "dropout_37 (Dropout)         (None, 32)                0         \n",
      "_________________________________________________________________\n",
      "dense_28 (Dense)             (None, 5)                 165       \n",
      "=================================================================\n",
      "Total params: 1,154,277\n",
      "Trainable params: 1,154,277\n",
      "Non-trainable params: 0\n",
      "_________________________________________________________________\n",
      "None\n"
     ]
    }
   ],
   "source": [
    "# 5 - Define your loss/optimizer/metrics\n",
    "\n",
    "from keras import optimizers\n",
    "from keras import metrics\n",
    "\n",
    "loss_classif     =  'categorical_crossentropy' # find the right loss for multi-class classification\n",
    "optimizer        =  'adam' # find the right optimizer\n",
    "metrics_classif  =  ['accuracy']\n",
    "\n",
    "# Observe how easy (but blackboxed) this is in Keras\n",
    "model.compile(loss=loss_classif,\n",
    "              optimizer=optimizer,\n",
    "              metrics=metrics_classif)\n",
    "print(model.summary())"
   ]
  },
  {
   "cell_type": "code",
   "execution_count": 60,
   "metadata": {
    "collapsed": false,
    "deletable": true,
    "editable": true
   },
   "outputs": [
    {
     "data": {
      "application/vnd.jupyter.widget-view+json": {
       "model_id": "2753f3d280094f65aab9795174bd20dc"
      }
     },
     "metadata": {},
     "output_type": "display_data"
    },
    {
     "data": {
      "application/vnd.jupyter.widget-view+json": {
       "model_id": "ca4ca71a95d842849613f62459198ba5"
      }
     },
     "metadata": {},
     "output_type": "display_data"
    },
    {
     "data": {
      "application/vnd.jupyter.widget-view+json": {
       "model_id": "e35aa3fc4c1d40dcb9c6c982d609b97f"
      }
     },
     "metadata": {},
     "output_type": "display_data"
    },
    {
     "data": {
      "application/vnd.jupyter.widget-view+json": {
       "model_id": "f1f1e743ea0d46c3a58e811122bab99a"
      }
     },
     "metadata": {},
     "output_type": "display_data"
    },
    {
     "data": {
      "application/vnd.jupyter.widget-view+json": {
       "model_id": "7c98c1d21b3547abb9baa92528eac5ac"
      }
     },
     "metadata": {},
     "output_type": "display_data"
    },
    {
     "data": {
      "application/vnd.jupyter.widget-view+json": {
       "model_id": "77d2cb74c876419bb311803541579628"
      }
     },
     "metadata": {},
     "output_type": "display_data"
    },
    {
     "data": {
      "application/vnd.jupyter.widget-view+json": {
       "model_id": "78a4257782f64e45b886c193b9f34fc0"
      }
     },
     "metadata": {},
     "output_type": "display_data"
    },
    {
     "data": {
      "text/plain": [
       "<matplotlib.legend.Legend at 0x21311ec3f98>"
      ]
     },
     "execution_count": 60,
     "metadata": {},
     "output_type": "execute_result"
    },
    {
     "data": {
      "image/png": "[encoded data removed]",
      "text/plain": [
       "<matplotlib.figure.Figure at 0x21308c64550>"
      ]
     },
     "metadata": {},
     "output_type": "display_data"
    }
   ],
   "source": [
    "# 6 - Train your model and find the best hyperparameters for your dev set\n",
    "#     you will be evaluated on the quality of your predictions on the test set\n",
    "\n",
    "from keras.utils import to_categorical\n",
    "from keras_tqdm import TQDMNotebookCallback\n",
    "\n",
    "bs = 64\n",
    "n_epochs = 6\n",
    "\n",
    "y_train = to_categorical(np.array(sst_train_label).astype(int))\n",
    "y_dev = to_categorical(np.array(sst_dev_label).astype(int))\n",
    "\n",
    "class SaveEpoch(keras.callbacks.Callback):\n",
    "    def __init__(self):\n",
    "        self.test_epoch = []\n",
    "        self.train_epoch = []\n",
    "\n",
    "    def on_epoch_end(self, epoch, logs={}):\n",
    "        self.test_epoch.append(logs.get('val_acc'))\n",
    "        self.train_epoch.append(logs.get('acc'))\n",
    "        return\n",
    "\n",
    "histories = SaveEpoch()\n",
    "    \n",
    "model.fit(X_train, y_train, batch_size=bs,\n",
    "          validation_data=(X_dev, y_dev),\n",
    "          epochs=n_epochs, callbacks=[histories, TQDMNotebookCallback(leave_inner=True, leave_outer=True)], verbose=0)\n",
    "\n",
    "plt.figure(figsize=(15,10))\n",
    "plt.title('Accuracy function of the number of epochs train v/s dev', fontsize=22)\n",
    "plt.plot(histories.train_epoch, label='train', linewidth=4.0)\n",
    "plt.plot(histories.test_epoch, label='dev', linewidth=4.0)\n",
    "plt.xlabel('epochs', fontsize=18)\n",
    "plt.ylabel('accuracy', fontsize=18)\n",
    "plt.legend(prop={'size': 20})"
   ]
  },
  {
   "cell_type": "code",
   "execution_count": 61,
   "metadata": {
    "collapsed": true,
    "deletable": true,
    "editable": true
   },
   "outputs": [],
   "source": [
    "# 7 - Generate your predictions on the test set using model.predict(x_test)\n",
    "#     https://keras.io/models/model/\n",
    "#     Log your predictions in a file (one line = one integer: 0,1,2,3,4)\n",
    "#     Attach the output file \"logreg_lstm_y_test_sst.txt\" to your deliverable.\n",
    "\n",
    "predicted_label = model.predict(X_test)\n",
    "\n",
    "with io.open('logreg_lstm_y_test_sst.txt', 'w') as f:\n",
    "    for e in predicted_label:\n",
    "        f.write(\"%s\\n\" % e)"
   ]
  },
  {
   "cell_type": "markdown",
   "metadata": {
    "deletable": true,
    "editable": true
   },
   "source": [
    "## 4.3 -- innovate !"
   ]
  },
  {
   "cell_type": "code",
   "execution_count": 62,
   "metadata": {
    "collapsed": false,
    "deletable": true,
    "editable": true
   },
   "outputs": [],
   "source": [
    "# 8 - Open question: find a model that is better on your dev set\n",
    "#     (e.g: use a 1D ConvNet, use a better classifier, pretrain your lookup tables ..)\n",
    "#     you will get point if the results on the test set are better: be careful of not overfitting your dev set too much..\n",
    "#     Attach the output file \"XXX_XXX_y_test_sst.txt\" to your deliverable.\n",
    "from collections import OrderedDict\n",
    "\n",
    "def get_voc(*args):\n",
    "    \"\"\"\n",
    "        Args:\n",
    "            *args (lists of strings): list of the strings of the training/dev/testing dataset\n",
    "        Returns:\n",
    "            list: a list containing all the words (unique)\n",
    "    \"\"\"\n",
    "    r = []\n",
    "    \n",
    "    for a in args:\n",
    "        for e in a:\n",
    "            words = text_to_word_sequence(e)\n",
    "            for w in words:\n",
    "                r.append(w)\n",
    "                \n",
    "    uniq_word = list(set(r)) # set use to discard duplicates\n",
    "    \n",
    "    return {w: None for w in uniq_word}\n",
    "\n",
    "def word_to_embeddings(filename, *args):\n",
    "    voca = get_voc(*args)\n",
    "    w2e = OrderedDict()\n",
    "    \n",
    "    max_size = len(voca)\n",
    "    counter = 0\n",
    "    with io.open(filename, encoding='utf-8') as f:\n",
    "        next(f) # to skip the header\n",
    "        for line in f:\n",
    "            if counter == max_size:\n",
    "                break\n",
    "            word, vec = line.split(' ', 1)\n",
    "            if word.strip().lower() in voca:\n",
    "                w2e[word] = np.fromstring(vec, sep=' ')\n",
    "                counter += 1\n",
    "    \n",
    "    return w2e\n",
    "\n",
    "def getEmbeddings(voc_list):\n",
    "    \"\"\"\n",
    "        Args:\n",
    "            voc_list (list): list of unique words extracted from all questions\n",
    "        Returns:\n",
    "            embeddings (ndarray): A matrix of shape (vocabulary size, embeddings_size)\n",
    "    \"\"\"\n",
    "    embeddings = np.zeros((len(voc_list), 300))\n",
    "    for i, w in enumerate(voc_list):\n",
    "        embeddings[i] = word_embeddings(w).vector\n",
    "\n",
    "    return embeddings\n",
    "\n",
    "# take 20 seconds on my computer...\n",
    "w2v_dict = word_to_embeddings(os.path.join(PATH_TO_DATA, 'wiki.en.vec'), sst_test, sst_dev, sst_train)"
   ]
  },
  {
   "cell_type": "code",
   "execution_count": 63,
   "metadata": {
    "collapsed": false,
    "deletable": true,
    "editable": true
   },
   "outputs": [],
   "source": [
    "vocabulaire = set(get_voc(sst_test, sst_dev, sst_train)) # voc from the SST files\n",
    "voca_w2v = set(w2v_dict.keys()) # voc using word_2_vec from wikipedia"
   ]
  },
  {
   "cell_type": "code",
   "execution_count": 64,
   "metadata": {
    "collapsed": false,
    "deletable": true,
    "editable": true
   },
   "outputs": [
    {
     "data": {
      "text/plain": [
       "{\"''\",\n",
       " \"'30s\",\n",
       " \"'40s\",\n",
       " \"'50s\",\n",
       " \"'53\",\n",
       " \"'60s\",\n",
       " \"'70s\",\n",
       " \"'80s\",\n",
       " \"'90s\",\n",
       " \"'d\",\n",
       " \"'em\",\n",
       " \"'ll\",\n",
       " \"'m\",\n",
       " \"'n\",\n",
       " \"'n'\",\n",
       " \"'re\",\n",
       " \"'s\",\n",
       " \"'til\",\n",
       " \"'ve\",\n",
       " '00',\n",
       " '000',\n",
       " '007',\n",
       " '1',\n",
       " '10',\n",
       " '100',\n",
       " '101',\n",
       " '102',\n",
       " '103',\n",
       " '104',\n",
       " '105',\n",
       " '10th',\n",
       " '11',\n",
       " '110',\n",
       " '112',\n",
       " '117',\n",
       " '11th',\n",
       " '12',\n",
       " '120',\n",
       " '123',\n",
       " '125',\n",
       " '127',\n",
       " '129',\n",
       " '12th',\n",
       " '13',\n",
       " '13th',\n",
       " '14',\n",
       " '140',\n",
       " '146',\n",
       " '15',\n",
       " '15th',\n",
       " '16',\n",
       " '163',\n",
       " '168',\n",
       " '17',\n",
       " '170',\n",
       " '179',\n",
       " '1790',\n",
       " '18',\n",
       " '180',\n",
       " '1873',\n",
       " '1899',\n",
       " '18th',\n",
       " '19',\n",
       " '1915',\n",
       " '1920',\n",
       " '1930s',\n",
       " '1933',\n",
       " '1934',\n",
       " '1937',\n",
       " '1938',\n",
       " '1940s',\n",
       " '1949',\n",
       " '1950',\n",
       " '1950s',\n",
       " '1952',\n",
       " '1953',\n",
       " '1954',\n",
       " '1955',\n",
       " '1957',\n",
       " '1958',\n",
       " '1959',\n",
       " '1960',\n",
       " '1960s',\n",
       " '1962',\n",
       " '1967',\n",
       " '1970',\n",
       " '1970s',\n",
       " '1971',\n",
       " '1972',\n",
       " '1973',\n",
       " '1975',\n",
       " '1978',\n",
       " '1979',\n",
       " '1980',\n",
       " '1980s',\n",
       " '1982',\n",
       " '1983',\n",
       " '1984',\n",
       " '1986',\n",
       " '1987',\n",
       " '1988',\n",
       " '1989',\n",
       " '1990',\n",
       " '1991',\n",
       " '1992',\n",
       " '1993',\n",
       " '1994',\n",
       " '1995',\n",
       " '1997',\n",
       " '1998',\n",
       " '1999',\n",
       " '19th',\n",
       " '2',\n",
       " '20',\n",
       " '2000',\n",
       " '2001',\n",
       " '2002',\n",
       " '20th',\n",
       " '21',\n",
       " '21st',\n",
       " '22',\n",
       " '24',\n",
       " '2455',\n",
       " '25',\n",
       " '2525',\n",
       " '25s',\n",
       " '26',\n",
       " '270',\n",
       " '28k',\n",
       " '295',\n",
       " '2\\xa01',\n",
       " '3',\n",
       " '30',\n",
       " '300',\n",
       " '3000',\n",
       " '33',\n",
       " '37',\n",
       " '3d',\n",
       " '4',\n",
       " '40',\n",
       " '400',\n",
       " '401',\n",
       " '42',\n",
       " '45',\n",
       " '451',\n",
       " '48',\n",
       " '49',\n",
       " '4ever',\n",
       " '4th',\n",
       " '4w',\n",
       " '5',\n",
       " '50',\n",
       " '500',\n",
       " '50s',\n",
       " '51',\n",
       " '51st',\n",
       " '52',\n",
       " '5ths',\n",
       " '6',\n",
       " '60',\n",
       " '60s',\n",
       " '65',\n",
       " '65th',\n",
       " '66',\n",
       " '7',\n",
       " '70',\n",
       " '70s',\n",
       " '71',\n",
       " '72',\n",
       " '75',\n",
       " '76',\n",
       " '77',\n",
       " '78',\n",
       " '79',\n",
       " '7th',\n",
       " '8',\n",
       " '80',\n",
       " '800',\n",
       " '82',\n",
       " '83',\n",
       " '84',\n",
       " '85',\n",
       " '86',\n",
       " '87',\n",
       " '88',\n",
       " '89',\n",
       " '8th',\n",
       " '8\\xa01',\n",
       " '9',\n",
       " '90',\n",
       " '91',\n",
       " '93',\n",
       " '94',\n",
       " '95',\n",
       " '96',\n",
       " '97',\n",
       " '98',\n",
       " '99',\n",
       " 'aborbing',\n",
       " 'achival',\n",
       " 'actorish',\n",
       " 'actorliness',\n",
       " 'adventues',\n",
       " 'alientation',\n",
       " 'amoses',\n",
       " 'animaton',\n",
       " 'anteing',\n",
       " 'artnering',\n",
       " 'artsploitation',\n",
       " 'asiaphiles',\n",
       " 'baaaaaaaaad',\n",
       " 'bazadona',\n",
       " 'bibbidy',\n",
       " 'bjorkness',\n",
       " 'bondish',\n",
       " 'bottomlessly',\n",
       " 'bruckheimeresque',\n",
       " 'butterfingered',\n",
       " \"c'mon\",\n",
       " 'cadness',\n",
       " 'chabrolian',\n",
       " 'cheatfully',\n",
       " 'cinemantic',\n",
       " 'cipherlike',\n",
       " 'claustrophic',\n",
       " 'clericks',\n",
       " 'copmovieland',\n",
       " 'copyof',\n",
       " 'corruscating',\n",
       " 'costumey',\n",
       " 'crappola',\n",
       " \"d'etre\",\n",
       " \"d'oeuvre\",\n",
       " 'dateflick',\n",
       " 'defeatingly',\n",
       " 'democracie',\n",
       " 'denlopp',\n",
       " 'destinees',\n",
       " 'diciness',\n",
       " 'djeinaba',\n",
       " 'drippiness',\n",
       " 'dudsville',\n",
       " 'dullingly',\n",
       " 'dumbfoundingly',\n",
       " 'dungpile',\n",
       " 'eckstraordinarily',\n",
       " 'efteriades',\n",
       " 'egocentricities',\n",
       " 'elegiacally',\n",
       " 'eroti',\n",
       " 'exporing',\n",
       " 'felinni',\n",
       " 'fiftysomething',\n",
       " 'fizzability',\n",
       " 'flakeball',\n",
       " 'flck',\n",
       " 'forgettably',\n",
       " 'formuliac',\n",
       " 'fuhgeddaboutit',\n",
       " 'fustily',\n",
       " 'gabbiest',\n",
       " 'gantzes',\n",
       " 'gerbosi',\n",
       " 'glizty',\n",
       " 'gooeyness',\n",
       " 'gorefests',\n",
       " 'greasiest',\n",
       " 'gunfest',\n",
       " 'headbangingly',\n",
       " 'heartwarmingly',\n",
       " 'hitchcockianism',\n",
       " 'hjelje',\n",
       " 'holofcenter',\n",
       " 'hotdogging',\n",
       " 'hotsies',\n",
       " 'idoosyncratic',\n",
       " 'ihops',\n",
       " 'imaxy',\n",
       " 'imponderably',\n",
       " 'indieflick',\n",
       " 'involvingly',\n",
       " 'jaglomized',\n",
       " 'japanimator',\n",
       " 'kahlories',\n",
       " 'kaputschnik',\n",
       " 'kibbitzes',\n",
       " 'kidlets',\n",
       " \"l'avventura\",\n",
       " 'laugther',\n",
       " 'leplouff',\n",
       " 'likableness',\n",
       " 'makmalbaf',\n",
       " 'marcken',\n",
       " 'margolo',\n",
       " 'marveilleux',\n",
       " 'materalism',\n",
       " 'meaningness',\n",
       " 'mibii',\n",
       " 'monkeyfun',\n",
       " 'montied',\n",
       " 'mullinski',\n",
       " 'musclefest',\n",
       " \"n't\",\n",
       " 'nebrida',\n",
       " 'nonchallenging',\n",
       " 'nonjudgmentally',\n",
       " 'nrelentingly',\n",
       " 'nuld',\n",
       " \"o'clock\",\n",
       " \"o'fallon\",\n",
       " \"o'neill\",\n",
       " 'o2',\n",
       " \"ol'\",\n",
       " 'oprahfication',\n",
       " 'outgag',\n",
       " 'overmanipulative',\n",
       " 'pantomimesque',\n",
       " 'phonce',\n",
       " 'pistoled',\n",
       " 'plaintiveness',\n",
       " 'pokepie',\n",
       " 'powerment',\n",
       " 'prechewed',\n",
       " 'prewarned',\n",
       " 'provocatuers',\n",
       " 'psychodramatics',\n",
       " 'pulpiness',\n",
       " 'reeboir',\n",
       " 'repellantly',\n",
       " 'revigorates',\n",
       " 'ricture',\n",
       " 'rintarô',\n",
       " 'roisterous',\n",
       " 'romething',\n",
       " 'ryanovich',\n",
       " 's1m0ne',\n",
       " 'sailboaters',\n",
       " 'sandlerian',\n",
       " 'sc2',\n",
       " 'scuzbag',\n",
       " 'seldhal',\n",
       " 'semimusical',\n",
       " 'shagster',\n",
       " 'shapable',\n",
       " 'shapelessly',\n",
       " 'shayamalan',\n",
       " 'shimmeringly',\n",
       " 'shlockmeister',\n",
       " 'shrieky',\n",
       " 'sillified',\n",
       " 'sitcomishly',\n",
       " 'skeeved',\n",
       " 'sl2',\n",
       " 'slowtime',\n",
       " 'snazziness',\n",
       " 'softheaded',\n",
       " 'solondzian',\n",
       " 'spittingly',\n",
       " 'splatterfests',\n",
       " 'stagecrafts',\n",
       " 'steinis',\n",
       " 'stevenon',\n",
       " 'stortelling',\n",
       " 'strafings',\n",
       " 'strainingly',\n",
       " 'stuffiest',\n",
       " 'stumblings',\n",
       " 'stuporously',\n",
       " 'superficiale',\n",
       " 'surfacey',\n",
       " 'sychowski',\n",
       " 'tardier',\n",
       " 'telanovela',\n",
       " 'thekids',\n",
       " 'toolbags',\n",
       " 'travil',\n",
       " 'truckzilla',\n",
       " 'truncheoning',\n",
       " 'tryingly',\n",
       " 'uberviolence',\n",
       " 'uncharismatically',\n",
       " 'unclassifiably',\n",
       " 'unconned',\n",
       " 'underdramatized',\n",
       " 'underrehearsed',\n",
       " 'underventilated',\n",
       " 'unembarrassing',\n",
       " 'unfakable',\n",
       " 'unfussily',\n",
       " 'unhibited',\n",
       " 'unlaughable',\n",
       " 'unrecommendable',\n",
       " 'unsalvageability',\n",
       " 'unslick',\n",
       " 'unsuspenseful',\n",
       " 'untugged',\n",
       " 'ventually',\n",
       " 'verete',\n",
       " 'vereté',\n",
       " 'vh1',\n",
       " 'videologue',\n",
       " 'volletta',\n",
       " 'wewannour',\n",
       " 'wifty'}"
      ]
     },
     "execution_count": 64,
     "metadata": {},
     "output_type": "execute_result"
    }
   ],
   "source": [
    "vocabulaire.difference(voca_w2v) # difference: some words in the SST dataset are not in the w2v file from wikipedia...."
   ]
  },
  {
   "cell_type": "markdown",
   "metadata": {
    "deletable": true,
    "editable": true
   },
   "source": [
    "As there are some words that aren't in the wikipedia word2vec embeddings file. We will use a nlp library called __spacy__ to create the word_2_vec embeddings. It the word is not in the w2v embedding from spacy it will output a matrix full of 0. So at least we will have the same number of vectors in our embedding matrix created using __spacy__. Also for the number like 101 and so on... __spacy__ word2vec actually outputs a non-zero matrix. So this is why we will work with __spacy__."
   ]
  },
  {
   "cell_type": "code",
   "execution_count": 65,
   "metadata": {
    "collapsed": false,
    "deletable": true,
    "editable": true
   },
   "outputs": [],
   "source": [
    "import spacy\n",
    "word_embeddings = spacy.load('en_vectors_web_lg')"
   ]
  },
  {
   "cell_type": "code",
   "execution_count": 66,
   "metadata": {
    "collapsed": false,
    "deletable": true,
    "editable": true
   },
   "outputs": [
    {
     "data": {
      "text/plain": [
       "array([-1.8077e-01, -5.0062e-01,  7.9536e-01, -5.2051e-02,  5.0713e-01,\n",
       "       -5.8448e-01,  3.2312e-01, -1.4564e-01,  2.7792e-01, -5.3547e-01,\n",
       "       -4.3922e-01, -3.1055e-01, -1.4749e-01, -6.0710e-01,  6.6245e-01,\n",
       "        8.5843e-02,  1.7011e-02,  4.4511e-01, -1.8620e-01, -3.4050e-01,\n",
       "       -2.3033e-01, -4.7385e-01, -5.4631e-04, -2.8088e-02,  9.9480e-02,\n",
       "        3.7621e-01,  1.4162e-01, -2.2744e-01, -5.2226e-01, -4.3033e-01,\n",
       "       -2.3946e-01,  3.6224e-02, -1.9986e-02,  3.5777e-01, -1.5170e-01,\n",
       "        3.5257e-01,  7.8492e-01, -2.2333e-01,  3.3794e-01,  9.3280e-02,\n",
       "        5.5150e-01, -4.4073e-01,  3.5081e-01, -1.7353e-01, -1.7417e-01,\n",
       "        4.4464e-01,  3.9337e-02, -1.0676e-02, -8.2481e-02, -1.0295e-01,\n",
       "        4.2537e-01, -3.6940e-01, -2.7055e-01,  6.0478e-02,  3.3227e-02,\n",
       "        1.9404e-01,  1.8010e-01, -5.3708e-01,  6.3014e-01,  1.0596e-01,\n",
       "        3.4091e-01, -1.1620e-01,  2.0526e-02,  2.7498e-01, -5.2033e-01,\n",
       "        4.2709e-01, -8.7570e-02, -1.7318e-01,  6.6776e-03, -4.4182e-01,\n",
       "        3.3580e-01, -5.1206e-01, -2.3960e-01,  5.5040e-01,  1.2707e-01,\n",
       "        4.8239e-02,  4.4047e-01,  3.0660e-01,  3.6417e-01,  3.1534e-01,\n",
       "        3.7104e-01, -9.1190e-01,  3.6689e-01, -1.2370e-01,  6.5778e-01,\n",
       "        2.5528e-02, -8.9274e-02, -4.9293e-01, -1.8068e-01,  6.6993e-02,\n",
       "        2.7811e-01, -2.5607e-02,  4.5601e-02,  6.4892e-02, -1.6620e-01,\n",
       "       -2.8819e-01,  4.2420e-01, -3.6810e-01, -3.0721e-01,  2.8132e-01,\n",
       "       -3.1183e-01,  5.7703e-01,  3.0991e-01, -7.8278e-02,  3.2328e-01,\n",
       "        1.3297e+00,  7.6811e-02,  3.8089e-01, -1.9451e-01,  6.8985e-01,\n",
       "        4.7985e-01,  3.7062e-01, -2.6007e-02, -7.2016e-02,  2.3493e-01,\n",
       "        5.4984e-04,  1.9075e-01,  4.4837e-01,  8.2333e-02, -5.0619e-01,\n",
       "        6.4428e-01,  9.0186e-02, -1.9339e-01, -4.7695e-01, -1.5266e-01,\n",
       "        2.2117e-01,  1.8610e-01,  1.3056e-01, -5.7915e-01, -6.2794e-02,\n",
       "       -5.8280e-02,  4.9181e-01, -4.5419e-01, -3.2549e-01,  1.7070e-01,\n",
       "       -1.9486e-02,  3.6398e-01, -4.1093e-01,  1.7274e-02, -4.5629e-01,\n",
       "       -1.5713e+00, -1.5447e-01,  6.8322e-01,  4.5009e-02,  4.0013e-02,\n",
       "        8.3528e-01,  9.1612e-01, -4.5186e-01,  3.5272e-01, -1.3974e-01,\n",
       "        2.1125e-01,  2.7406e-01, -9.9087e-02,  3.2697e-01, -4.8466e-01,\n",
       "       -1.8043e-01, -4.2674e-01, -1.7301e-02, -8.2127e-03,  6.3975e-01,\n",
       "        4.5705e-01, -8.5738e-01,  3.4436e-01,  6.9027e-01,  1.0585e-01,\n",
       "       -2.4229e-01,  1.8658e-01, -6.6522e-02, -1.2223e-01, -8.1589e-02,\n",
       "        9.2747e-02,  2.1902e-01,  4.3180e-01, -2.3557e-01, -7.1277e-03,\n",
       "        2.7638e-01, -2.7800e-01,  2.7782e-02, -4.0831e-01,  2.3920e-01,\n",
       "        9.4863e-02, -6.5562e-02,  5.8480e-01, -8.0237e-02,  4.1268e-01,\n",
       "        1.0751e-01, -2.1848e-01,  4.5851e-01, -4.2870e-01,  6.0605e-01,\n",
       "        1.7040e-01,  4.2899e-02, -2.1251e-01,  2.6686e-01,  2.1625e-01,\n",
       "       -5.3739e-01,  9.7234e-02,  2.6827e-02, -5.3316e-01,  4.8097e-01,\n",
       "        3.9218e-01,  1.1915e-01, -1.8256e-01,  6.9915e-02, -1.1059e-01,\n",
       "        9.2855e-02,  2.5175e-01,  3.0145e-01, -9.4106e-02,  6.2880e-01,\n",
       "       -7.2952e-02,  1.4390e-01, -1.8204e-01,  8.6274e-02,  7.8698e-02,\n",
       "       -9.9700e-02,  2.6445e-01, -2.2794e-02,  2.5344e-01,  5.0013e-01,\n",
       "        1.3608e-01,  3.8879e-01, -3.9538e-01,  4.9156e-01, -2.2020e-01,\n",
       "       -2.8108e-01, -9.8262e-02,  1.2413e-01,  7.2770e-02,  1.2535e-01,\n",
       "       -3.6543e-01,  3.0948e-01, -5.6593e-01,  1.6906e-01, -1.9593e-01,\n",
       "        5.1492e-01,  3.9649e-01,  8.4633e-02, -3.0568e-01,  5.9143e-01,\n",
       "       -3.8689e-01,  1.4360e-01,  1.0201e-02,  1.3032e-01,  2.6393e-01,\n",
       "       -1.0066e-01,  3.5096e-01,  4.5306e-01,  3.8407e-01, -2.1171e-01,\n",
       "        5.9806e-01,  3.9582e-03, -2.1184e-01, -4.9548e-01, -4.5154e-03,\n",
       "        1.3112e-01,  1.9092e-01, -1.0253e-01,  2.6791e-01, -5.3193e-01,\n",
       "       -1.1042e-01,  3.7866e-01,  7.2327e-02,  9.1295e-02,  1.3825e-01,\n",
       "       -5.2060e-01, -4.9065e-01, -6.8501e-02,  4.3990e-01,  2.7708e-01,\n",
       "        2.8824e-01,  3.3810e-01,  6.8854e-01,  1.9545e-01,  2.8764e-01,\n",
       "        5.7742e-02,  2.1675e-01, -2.6248e-01, -2.3233e-01, -1.3198e-01,\n",
       "        9.4363e-02, -1.7659e-01,  7.2449e-01,  7.9343e-02,  3.5502e-01,\n",
       "        3.6231e-01, -9.3711e-02, -1.7254e-01, -7.5214e-01, -5.7362e-02,\n",
       "       -5.6010e-03,  2.6569e-01,  2.8334e-01,  5.2414e-01,  2.0176e-01,\n",
       "       -5.4366e-02,  3.1819e-01,  1.2949e-01, -1.9325e-01, -9.6175e-02],\n",
       "      dtype=float32)"
      ]
     },
     "execution_count": 66,
     "metadata": {},
     "output_type": "execute_result"
    }
   ],
   "source": [
    "word_embeddings(\"007\").vector"
   ]
  },
  {
   "cell_type": "code",
   "execution_count": 67,
   "metadata": {
    "collapsed": false,
    "deletable": true,
    "editable": true
   },
   "outputs": [
    {
     "data": {
      "text/plain": [
       "array([0., 0., 0., 0., 0., 0., 0., 0., 0., 0., 0., 0., 0., 0., 0., 0., 0.,\n",
       "       0., 0., 0., 0., 0., 0., 0., 0., 0., 0., 0., 0., 0., 0., 0., 0., 0.,\n",
       "       0., 0., 0., 0., 0., 0., 0., 0., 0., 0., 0., 0., 0., 0., 0., 0., 0.,\n",
       "       0., 0., 0., 0., 0., 0., 0., 0., 0., 0., 0., 0., 0., 0., 0., 0., 0.,\n",
       "       0., 0., 0., 0., 0., 0., 0., 0., 0., 0., 0., 0., 0., 0., 0., 0., 0.,\n",
       "       0., 0., 0., 0., 0., 0., 0., 0., 0., 0., 0., 0., 0., 0., 0., 0., 0.,\n",
       "       0., 0., 0., 0., 0., 0., 0., 0., 0., 0., 0., 0., 0., 0., 0., 0., 0.,\n",
       "       0., 0., 0., 0., 0., 0., 0., 0., 0., 0., 0., 0., 0., 0., 0., 0., 0.,\n",
       "       0., 0., 0., 0., 0., 0., 0., 0., 0., 0., 0., 0., 0., 0., 0., 0., 0.,\n",
       "       0., 0., 0., 0., 0., 0., 0., 0., 0., 0., 0., 0., 0., 0., 0., 0., 0.,\n",
       "       0., 0., 0., 0., 0., 0., 0., 0., 0., 0., 0., 0., 0., 0., 0., 0., 0.,\n",
       "       0., 0., 0., 0., 0., 0., 0., 0., 0., 0., 0., 0., 0., 0., 0., 0., 0.,\n",
       "       0., 0., 0., 0., 0., 0., 0., 0., 0., 0., 0., 0., 0., 0., 0., 0., 0.,\n",
       "       0., 0., 0., 0., 0., 0., 0., 0., 0., 0., 0., 0., 0., 0., 0., 0., 0.,\n",
       "       0., 0., 0., 0., 0., 0., 0., 0., 0., 0., 0., 0., 0., 0., 0., 0., 0.,\n",
       "       0., 0., 0., 0., 0., 0., 0., 0., 0., 0., 0., 0., 0., 0., 0., 0., 0.,\n",
       "       0., 0., 0., 0., 0., 0., 0., 0., 0., 0., 0., 0., 0., 0., 0., 0., 0.,\n",
       "       0., 0., 0., 0., 0., 0., 0., 0., 0., 0., 0.], dtype=float32)"
      ]
     },
     "execution_count": 67,
     "metadata": {},
     "output_type": "execute_result"
    }
   ],
   "source": [
    "word_embeddings(\"destinees\").vector"
   ]
  },
  {
   "cell_type": "code",
   "execution_count": 68,
   "metadata": {
    "collapsed": true,
    "deletable": true,
    "editable": true
   },
   "outputs": [],
   "source": [
    "# get vocabulary\n",
    "def getEmbeddings(voc_list):\n",
    "    \"\"\"\n",
    "        Args:\n",
    "            voc_list (list): list of unique words extracted from all questions\n",
    "        Returns:\n",
    "            embeddings (ndarray): A matrix of shape (vocabulary size, embeddings_size)\n",
    "\n",
    "    \"\"\"\n",
    "    embeddings = np.zeros((len(voc_list), 300))\n",
    "    for i, w in enumerate(voc_list):\n",
    "        embeddings[i] = word_embeddings(w).vector\n",
    "\n",
    "    return embeddings\n",
    "\n",
    "vocab = list(get_voc(sst_test, sst_dev, sst_train))\n",
    "embedding_matrix = getEmbeddings(vocab)\n",
    "\n",
    "# need to transform X_test, X_train, X_dev into matrix of idx of word in embedding_matrix\n",
    "def preprocess_matrix(X, vocab, max_len):\n",
    "    vocab = {k: i for i, k in enumerate(vocab)}\n",
    "    new_X = np.zeros((len(X), max_len), dtype=int)\n",
    "    \n",
    "    for i, e in enumerate(X):\n",
    "        w_list = text_to_word_sequence(e)\n",
    "        size = len(w_list)\n",
    "        for j, w in enumerate(w_list):\n",
    "            new_X[i,max_len-size+j] = vocab[w]\n",
    "            \n",
    "    return new_X\n",
    "\n",
    "# sst_test, sst_dev, sst_train\n",
    "new_X_test = preprocess_matrix(sst_test, vocab, max_len=52)\n",
    "new_X_train = preprocess_matrix(sst_train, vocab, max_len=52)\n",
    "new_X_dev = preprocess_matrix(sst_dev, vocab, max_len=52)"
   ]
  },
  {
   "cell_type": "code",
   "execution_count": 71,
   "metadata": {
    "collapsed": false,
    "deletable": true,
    "editable": true
   },
   "outputs": [
    {
     "name": "stdout",
     "output_type": "stream",
     "text": [
      "\n"
     ]
    },
    {
     "name": "stderr",
     "output_type": "stream",
     "text": [
      "C:\\Anaconda3\\envs\\aind-dog\\lib\\site-packages\\ipykernel\\__main__.py:27: UserWarning: Update your `Model` call to the Keras 2 API: `Model(inputs=[<tf.Tenso..., outputs=Tensor(\"de...)`\n"
     ]
    },
    {
     "name": "stdout",
     "output_type": "stream",
     "text": [
      "_________________________________________________________________\n",
      "Layer (type)                 Output Shape              Param #   \n",
      "=================================================================\n",
      "input_3 (InputLayer)         (None, 52)                0         \n",
      "_________________________________________________________________\n",
      "embedding_23 (Embedding)     (None, 52, 300)           5351700   \n",
      "_________________________________________________________________\n",
      "lstm_40 (LSTM)               (None, 64)                93440     \n",
      "_________________________________________________________________\n",
      "dense_30 (Dense)             (None, 5)                 325       \n",
      "=================================================================\n",
      "Total params: 5,445,465\n",
      "Trainable params: 93,765\n",
      "Non-trainable params: 5,351,700\n",
      "_________________________________________________________________\n"
     ]
    }
   ],
   "source": [
    "from keras.models import *\n",
    "from keras.layers import merge\n",
    "from keras.layers.core import *\n",
    "\n",
    "voc_size = embedding_matrix.shape[0]\n",
    "word2vec_dim = embedding_matrix.shape[1]\n",
    "max_len = 52 # this is the maximum number of word in a string (it appears in X_text, just do X_test.shape)\n",
    "activation = 'tanh'\n",
    "q_hidden_units = 64\n",
    "merge_hidden_units = 50\n",
    "\n",
    "\n",
    "_input = Input(shape=[max_len], dtype='int32')\n",
    "\n",
    "# get the embedding layer\n",
    "embedded = Embedding(\n",
    "        input_dim=voc_size,\n",
    "        output_dim=word2vec_dim,\n",
    "        weights=[embedding_matrix],\n",
    "        input_length=max_len,\n",
    "        trainable=False,\n",
    "        mask_zero=False\n",
    "    )(_input)\n",
    "\n",
    "lstm = LSTM(q_hidden_units, return_sequences=False)(embedded)\n",
    "probabilities = Dense(5, activation='softmax')(lstm)\n",
    "better_model = Model(input=[_input], output=probabilities)\n",
    "better_model.compile(loss='categorical_crossentropy', optimizer='adam',  metrics=['accuracy'])\n",
    "better_model.summary()"
   ]
  },
  {
   "cell_type": "code",
   "execution_count": 72,
   "metadata": {
    "collapsed": false,
    "deletable": true,
    "editable": true
   },
   "outputs": [
    {
     "data": {
      "application/vnd.jupyter.widget-view+json": {
       "model_id": "78496d65f7044ac6a479dfc5cb165f2a"
      }
     },
     "metadata": {},
     "output_type": "display_data"
    },
    {
     "data": {
      "application/vnd.jupyter.widget-view+json": {
       "model_id": "23553fa2035a4dd593022b8fecda5655"
      }
     },
     "metadata": {},
     "output_type": "display_data"
    },
    {
     "name": "stderr",
     "output_type": "stream",
     "text": [
      "Exception in thread Thread-10:\n",
      "Traceback (most recent call last):\n",
      "  File \"C:\\Anaconda3\\envs\\aind-dog\\lib\\threading.py\", line 914, in _bootstrap_inner\n",
      "    self.run()\n",
      "  File \"C:\\Anaconda3\\envs\\aind-dog\\lib\\site-packages\\tqdm\\_tqdm.py\", line 144, in run\n",
      "    for instance in self.tqdm_cls._instances:\n",
      "  File \"C:\\Anaconda3\\envs\\aind-dog\\lib\\_weakrefset.py\", line 60, in __iter__\n",
      "    for itemref in self.data:\n",
      "RuntimeError: Set changed size during iteration\n",
      "\n"
     ]
    },
    {
     "data": {
      "application/vnd.jupyter.widget-view+json": {
       "model_id": "633267f5c7ae47b2957145799853e983"
      }
     },
     "metadata": {},
     "output_type": "display_data"
    },
    {
     "data": {
      "application/vnd.jupyter.widget-view+json": {
       "model_id": "967f5ee0c19942d8b1323ff74bc44eb9"
      }
     },
     "metadata": {},
     "output_type": "display_data"
    },
    {
     "data": {
      "application/vnd.jupyter.widget-view+json": {
       "model_id": "02811b6029c1465e9370fe047851d7fb"
      }
     },
     "metadata": {},
     "output_type": "display_data"
    },
    {
     "data": {
      "application/vnd.jupyter.widget-view+json": {
       "model_id": "366002e83e25438a86d2be989ee57cd8"
      }
     },
     "metadata": {},
     "output_type": "display_data"
    },
    {
     "data": {
      "application/vnd.jupyter.widget-view+json": {
       "model_id": "34f75ad8a39c4662843c9a0cb35917a7"
      }
     },
     "metadata": {},
     "output_type": "display_data"
    },
    {
     "data": {
      "text/plain": [
       "<matplotlib.legend.Legend at 0x21140084a20>"
      ]
     },
     "execution_count": 72,
     "metadata": {},
     "output_type": "execute_result"
    },
    {
     "data": {
      "image/png": "[encoded data removed]",
      "text/plain": [
       "<matplotlib.figure.Figure at 0x2131567a048>"
      ]
     },
     "metadata": {},
     "output_type": "display_data"
    }
   ],
   "source": [
    "histories2 = SaveEpoch()\n",
    "\n",
    "better_model.fit(new_X_train, y_train, batch_size=bs,\n",
    "          validation_data=(new_X_dev, y_dev),\n",
    "          epochs=n_epochs, callbacks=[histories2, TQDMNotebookCallback(leave_inner=True, leave_outer=True)], verbose=0)\n",
    "\n",
    "plt.figure(figsize=(15,10))\n",
    "plt.title('Accuracy function of the number of epochs train v/s dev', fontsize=22)\n",
    "plt.plot(histories2.train_epoch, label='train', linewidth=4.0)\n",
    "plt.plot(histories2.test_epoch, label='dev', linewidth=4.0)\n",
    "plt.xlabel('epochs', fontsize=18)\n",
    "plt.ylabel('accuracy', fontsize=18)\n",
    "plt.legend(prop={'size': 20})"
   ]
  },
  {
   "cell_type": "code",
   "execution_count": null,
   "metadata": {
    "collapsed": true,
    "deletable": true,
    "editable": true
   },
   "outputs": [],
   "source": []
  }
 ],
 "metadata": {
  "anaconda-cloud": {},
  "kernelspec": {
   "display_name": "Python 3",
   "language": "python",
   "name": "python3"
  },
  "language_info": {
   "codemirror_mode": {
    "name": "ipython",
    "version": 3
   },
   "file_extension": ".py",
   "mimetype": "text/x-python",
   "name": "python",
   "nbconvert_exporter": "python",
   "pygments_lexer": "ipython3",
   "version": "3.6.0"
  }
 },
 "nbformat": 4,
 "nbformat_minor": 0
}
